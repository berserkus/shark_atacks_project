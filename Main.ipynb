{
 "cells": [
  {
   "cell_type": "code",
   "execution_count": 1,
   "id": "d903c820",
   "metadata": {},
   "outputs": [],
   "source": [
    "import pandas as pd\n",
    "import seaborn as sns\n",
    "import numpy as np\n",
    "import matplotlib.pyplot as plt\n",
    "import re\n",
    "from src import myfunctions\n",
    "import statsmodels.api as sm\n",
    "from scipy import signal\n",
    "import scipy as sp"
   ]
  },
  {
   "cell_type": "code",
   "execution_count": null,
   "id": "018c945a",
   "metadata": {},
   "outputs": [],
   "source": []
  },
  {
   "cell_type": "code",
   "execution_count": 2,
   "id": "1408945e",
   "metadata": {},
   "outputs": [],
   "source": [
    "# note that for Windows Python 3.8. you need to use ./ to indicate parent directory\n",
    "# in some other systems it might be ../\n",
    "\n",
    "df=pd.read_csv(\"./input/attacks.csv\", encoding='ISO-8859-1')"
   ]
  },
  {
   "cell_type": "code",
   "execution_count": 3,
   "id": "64a0a00b",
   "metadata": {},
   "outputs": [
    {
     "name": "stdout",
     "output_type": "stream",
     "text": [
      "<class 'pandas.core.frame.DataFrame'>\n",
      "Int64Index: 5114 entries, 0 to 6176\n",
      "Data columns (total 16 columns):\n",
      " #   Column    Non-Null Count  Dtype \n",
      "---  ------    --------------  ----- \n",
      " 0   Date      5114 non-null   object\n",
      " 1   Year      5114 non-null   int64 \n",
      " 2   Type      5111 non-null   object\n",
      " 3   Country   5078 non-null   object\n",
      " 4   Area      4792 non-null   object\n",
      " 5   Location  4725 non-null   object\n",
      " 6   Activity  4841 non-null   object\n",
      " 7   Name      5063 non-null   object\n",
      " 8   Sex       5114 non-null   object\n",
      " 9   Age       5114 non-null   int64 \n",
      " 10  Injury    5113 non-null   object\n",
      " 11  Fatal     5114 non-null   object\n",
      " 12  Time      2695 non-null   object\n",
      " 13  Species   5114 non-null   object\n",
      " 14  Source    5104 non-null   object\n",
      " 15  Month     4497 non-null   object\n",
      "dtypes: int64(2), object(14)\n",
      "memory usage: 679.2+ KB\n"
     ]
    },
    {
     "name": "stderr",
     "output_type": "stream",
     "text": [
      "C:\\Users\\vikto\\OneDrive\\Documents\\Python PROGRAMING\\IronHack\\Projects\\shark_attacks\\src\\myfunctions.py:17: SettingWithCopyWarning: \n",
      "A value is trying to be set on a copy of a slice from a DataFrame.\n",
      "Try using .loc[row_indexer,col_indexer] = value instead\n",
      "\n",
      "See the caveats in the documentation: https://pandas.pydata.org/pandas-docs/stable/user_guide/indexing.html#returning-a-view-versus-a-copy\n",
      "  df[\"Date_clean\"]=df.apply(lambda row: str(re.findall(pattern_date,row[\"Date\"]))[2:-2] if reg_date.search(str(row[\"Date\"])) else row[\"Year\"], axis=1)\n",
      "C:\\Users\\vikto\\OneDrive\\Documents\\Python PROGRAMING\\IronHack\\Projects\\shark_attacks\\src\\myfunctions.py:19: SettingWithCopyWarning: \n",
      "A value is trying to be set on a copy of a slice from a DataFrame.\n",
      "Try using .loc[row_indexer,col_indexer] = value instead\n",
      "\n",
      "See the caveats in the documentation: https://pandas.pydata.org/pandas-docs/stable/user_guide/indexing.html#returning-a-view-versus-a-copy\n",
      "  df['Month']=df['Date_clean'].apply(lambda x: x.split('-')[1] if type(x) == str else np.nan)\n",
      "C:\\Users\\vikto\\OneDrive\\Documents\\Python PROGRAMING\\IronHack\\Projects\\shark_attacks\\src\\myfunctions.py:22: SettingWithCopyWarning: \n",
      "A value is trying to be set on a copy of a slice from a DataFrame.\n",
      "Try using .loc[row_indexer,col_indexer] = value instead\n",
      "\n",
      "See the caveats in the documentation: https://pandas.pydata.org/pandas-docs/stable/user_guide/indexing.html#returning-a-view-versus-a-copy\n",
      "  df['Year']=df['Year'].astype(int)\n"
     ]
    }
   ],
   "source": [
    "# Function cleaning will clean all the relevant columns like Date, Year, Country, Sex, Age, Species\n",
    "\n",
    "df2=myfunctions.cleaning(df)\n",
    "df2.info()"
   ]
  },
  {
   "cell_type": "code",
   "execution_count": 4,
   "id": "387727af",
   "metadata": {},
   "outputs": [],
   "source": [
    "# Given that prior to 1850 there are very few records, we will start data from 1800\n",
    "\n",
    "df_recent=df2[(df2['Year']>=1850)]"
   ]
  },
  {
   "cell_type": "code",
   "execution_count": 5,
   "id": "c4b7fd01",
   "metadata": {},
   "outputs": [
    {
     "data": {
      "text/html": [
       "<div>\n",
       "<style scoped>\n",
       "    .dataframe tbody tr th:only-of-type {\n",
       "        vertical-align: middle;\n",
       "    }\n",
       "\n",
       "    .dataframe tbody tr th {\n",
       "        vertical-align: top;\n",
       "    }\n",
       "\n",
       "    .dataframe thead th {\n",
       "        text-align: right;\n",
       "    }\n",
       "</style>\n",
       "<table border=\"1\" class=\"dataframe\">\n",
       "  <thead>\n",
       "    <tr style=\"text-align: right;\">\n",
       "      <th></th>\n",
       "      <th>Date</th>\n",
       "      <th>Year</th>\n",
       "      <th>Type</th>\n",
       "      <th>Country</th>\n",
       "      <th>Area</th>\n",
       "      <th>Location</th>\n",
       "      <th>Activity</th>\n",
       "      <th>Name</th>\n",
       "      <th>Sex</th>\n",
       "      <th>Age</th>\n",
       "      <th>Injury</th>\n",
       "      <th>Fatal</th>\n",
       "      <th>Time</th>\n",
       "      <th>Species</th>\n",
       "      <th>Source</th>\n",
       "      <th>Month</th>\n",
       "    </tr>\n",
       "  </thead>\n",
       "  <tbody>\n",
       "    <tr>\n",
       "      <th>0</th>\n",
       "      <td>25-Jun-2018</td>\n",
       "      <td>2018</td>\n",
       "      <td>Boating</td>\n",
       "      <td>USA</td>\n",
       "      <td>California</td>\n",
       "      <td>Oceanside, San Diego County</td>\n",
       "      <td>Paddling</td>\n",
       "      <td>Julie Wolfe</td>\n",
       "      <td>F</td>\n",
       "      <td>57</td>\n",
       "      <td>No injury to occupant, outrigger canoe and pad...</td>\n",
       "      <td>N</td>\n",
       "      <td>18h00</td>\n",
       "      <td>White shark</td>\n",
       "      <td>R. Collier, GSAF</td>\n",
       "      <td>Jun</td>\n",
       "    </tr>\n",
       "    <tr>\n",
       "      <th>1</th>\n",
       "      <td>18-Jun-2018</td>\n",
       "      <td>2018</td>\n",
       "      <td>Unprovoked</td>\n",
       "      <td>USA</td>\n",
       "      <td>Georgia</td>\n",
       "      <td>St. Simon Island, Glynn County</td>\n",
       "      <td>Standing</td>\n",
       "      <td>Adyson McNeely</td>\n",
       "      <td>F</td>\n",
       "      <td>11</td>\n",
       "      <td>Minor injury to left thigh</td>\n",
       "      <td>N</td>\n",
       "      <td>14h00  -15h00</td>\n",
       "      <td>Shark</td>\n",
       "      <td>K.McMurray, TrackingSharks.com</td>\n",
       "      <td>Jun</td>\n",
       "    </tr>\n",
       "    <tr>\n",
       "      <th>2</th>\n",
       "      <td>09-Jun-2018</td>\n",
       "      <td>2018</td>\n",
       "      <td>Invalid</td>\n",
       "      <td>USA</td>\n",
       "      <td>Hawaii</td>\n",
       "      <td>Habush, Oahu</td>\n",
       "      <td>Surfing</td>\n",
       "      <td>John Denges</td>\n",
       "      <td>M</td>\n",
       "      <td>48</td>\n",
       "      <td>Injury to left lower leg from surfboard skeg</td>\n",
       "      <td>N</td>\n",
       "      <td>07h45</td>\n",
       "      <td>Shark</td>\n",
       "      <td>K.McMurray, TrackingSharks.com</td>\n",
       "      <td>Jun</td>\n",
       "    </tr>\n",
       "    <tr>\n",
       "      <th>3</th>\n",
       "      <td>08-Jun-2018</td>\n",
       "      <td>2018</td>\n",
       "      <td>Unprovoked</td>\n",
       "      <td>Australia</td>\n",
       "      <td>New South Wales</td>\n",
       "      <td>Arrawarra Headland</td>\n",
       "      <td>Surfing</td>\n",
       "      <td>male</td>\n",
       "      <td>M</td>\n",
       "      <td>0</td>\n",
       "      <td>Minor injury to lower leg</td>\n",
       "      <td>N</td>\n",
       "      <td>NaN</td>\n",
       "      <td>Shark</td>\n",
       "      <td>B. Myatt, GSAF</td>\n",
       "      <td>Jun</td>\n",
       "    </tr>\n",
       "    <tr>\n",
       "      <th>4</th>\n",
       "      <td>04-Jun-2018</td>\n",
       "      <td>2018</td>\n",
       "      <td>Provoked</td>\n",
       "      <td>Mexico</td>\n",
       "      <td>Colima</td>\n",
       "      <td>La Ticla</td>\n",
       "      <td>Free diving</td>\n",
       "      <td>Gustavo Ramos</td>\n",
       "      <td>M</td>\n",
       "      <td>0</td>\n",
       "      <td>Lacerations to leg &amp; hand shark PROVOKED INCIDENT</td>\n",
       "      <td>N</td>\n",
       "      <td>NaN</td>\n",
       "      <td>Tiger shark</td>\n",
       "      <td>A .Kipper</td>\n",
       "      <td>Jun</td>\n",
       "    </tr>\n",
       "  </tbody>\n",
       "</table>\n",
       "</div>"
      ],
      "text/plain": [
       "          Date  Year        Type    Country             Area  \\\n",
       "0  25-Jun-2018  2018     Boating        USA       California   \n",
       "1  18-Jun-2018  2018  Unprovoked        USA          Georgia   \n",
       "2  09-Jun-2018  2018     Invalid        USA           Hawaii   \n",
       "3  08-Jun-2018  2018  Unprovoked  Australia  New South Wales   \n",
       "4  04-Jun-2018  2018    Provoked     Mexico           Colima   \n",
       "\n",
       "                         Location     Activity             Name Sex  Age  \\\n",
       "0     Oceanside, San Diego County     Paddling      Julie Wolfe   F   57   \n",
       "1  St. Simon Island, Glynn County     Standing  Adyson McNeely    F   11   \n",
       "2                    Habush, Oahu      Surfing      John Denges   M   48   \n",
       "3              Arrawarra Headland      Surfing             male   M    0   \n",
       "4                        La Ticla  Free diving   Gustavo Ramos    M    0   \n",
       "\n",
       "                                              Injury Fatal           Time  \\\n",
       "0  No injury to occupant, outrigger canoe and pad...     N          18h00   \n",
       "1                         Minor injury to left thigh     N  14h00  -15h00   \n",
       "2       Injury to left lower leg from surfboard skeg     N          07h45   \n",
       "3                          Minor injury to lower leg     N            NaN   \n",
       "4  Lacerations to leg & hand shark PROVOKED INCIDENT     N            NaN   \n",
       "\n",
       "       Species                          Source Month  \n",
       "0  White shark                R. Collier, GSAF   Jun  \n",
       "1        Shark  K.McMurray, TrackingSharks.com   Jun  \n",
       "2        Shark  K.McMurray, TrackingSharks.com   Jun  \n",
       "3        Shark                  B. Myatt, GSAF   Jun  \n",
       "4  Tiger shark                       A .Kipper   Jun  "
      ]
     },
     "execution_count": 5,
     "metadata": {},
     "output_type": "execute_result"
    }
   ],
   "source": [
    "df_recent.head()"
   ]
  },
  {
   "cell_type": "markdown",
   "id": "05ab185f",
   "metadata": {},
   "source": [
    "## 1. Data description"
   ]
  },
  {
   "cell_type": "markdown",
   "id": "a4506dc8",
   "metadata": {},
   "source": [
    "In the paragraphs below we will describe the data set in high level, showing the timeline, list of countries, age of people involved and species of sharks"
   ]
  },
  {
   "cell_type": "markdown",
   "id": "1c3d5ab1",
   "metadata": {},
   "source": [
    "#### Timeline"
   ]
  },
  {
   "cell_type": "code",
   "execution_count": 6,
   "id": "592f0310",
   "metadata": {},
   "outputs": [
    {
     "data": {
      "text/plain": [
       "<AxesSubplot:xlabel='Year', ylabel='Count'>"
      ]
     },
     "execution_count": 6,
     "metadata": {},
     "output_type": "execute_result"
    },
    {
     "data": {
      "image/png": "[encoded data removed]",
      "text/plain": [
       "<Figure size 432x288 with 1 Axes>"
      ]
     },
     "metadata": {
      "needs_background": "light"
     },
     "output_type": "display_data"
    }
   ],
   "source": [
    "sns.histplot(data=df_recent, x='Year', hue='Fatal', multiple='stack')"
   ]
  },
  {
   "cell_type": "code",
   "execution_count": 7,
   "id": "4670f02f",
   "metadata": {},
   "outputs": [
    {
     "data": {
      "text/html": [
       "<div>\n",
       "<style scoped>\n",
       "    .dataframe tbody tr th:only-of-type {\n",
       "        vertical-align: middle;\n",
       "    }\n",
       "\n",
       "    .dataframe tbody tr th {\n",
       "        vertical-align: top;\n",
       "    }\n",
       "\n",
       "    .dataframe thead th {\n",
       "        text-align: right;\n",
       "    }\n",
       "</style>\n",
       "<table border=\"1\" class=\"dataframe\">\n",
       "  <thead>\n",
       "    <tr style=\"text-align: right;\">\n",
       "      <th></th>\n",
       "      <th>Year</th>\n",
       "      <th>Fatality rate</th>\n",
       "      <th>Fatality rate male</th>\n",
       "      <th>Fatality rate female</th>\n",
       "      <th>Fatality rate 5y_avg</th>\n",
       "      <th>Fatality rate male 5y_avg</th>\n",
       "      <th>Fatality rate female 5y_avg</th>\n",
       "    </tr>\n",
       "  </thead>\n",
       "  <tbody>\n",
       "    <tr>\n",
       "      <th>164</th>\n",
       "      <td>2014</td>\n",
       "      <td>6.363636</td>\n",
       "      <td>6.818182</td>\n",
       "      <td>4.545455</td>\n",
       "      <td>9.461415</td>\n",
       "      <td>10.177030</td>\n",
       "      <td>5.390884</td>\n",
       "    </tr>\n",
       "    <tr>\n",
       "      <th>165</th>\n",
       "      <td>2015</td>\n",
       "      <td>7.031250</td>\n",
       "      <td>5.714286</td>\n",
       "      <td>13.043478</td>\n",
       "      <td>9.218181</td>\n",
       "      <td>9.477782</td>\n",
       "      <td>7.047198</td>\n",
       "    </tr>\n",
       "    <tr>\n",
       "      <th>166</th>\n",
       "      <td>2016</td>\n",
       "      <td>4.310345</td>\n",
       "      <td>3.157895</td>\n",
       "      <td>9.523810</td>\n",
       "      <td>7.624109</td>\n",
       "      <td>7.364263</td>\n",
       "      <td>8.951960</td>\n",
       "    </tr>\n",
       "    <tr>\n",
       "      <th>167</th>\n",
       "      <td>2017</td>\n",
       "      <td>5.882353</td>\n",
       "      <td>6.024096</td>\n",
       "      <td>5.555556</td>\n",
       "      <td>7.018402</td>\n",
       "      <td>6.426225</td>\n",
       "      <td>10.063071</td>\n",
       "    </tr>\n",
       "    <tr>\n",
       "      <th>168</th>\n",
       "      <td>2018</td>\n",
       "      <td>1.960784</td>\n",
       "      <td>2.222222</td>\n",
       "      <td>0.000000</td>\n",
       "      <td>5.109674</td>\n",
       "      <td>4.787336</td>\n",
       "      <td>6.533660</td>\n",
       "    </tr>\n",
       "  </tbody>\n",
       "</table>\n",
       "</div>"
      ],
      "text/plain": [
       "     Year  Fatality rate  Fatality rate male  Fatality rate female  \\\n",
       "164  2014       6.363636            6.818182              4.545455   \n",
       "165  2015       7.031250            5.714286             13.043478   \n",
       "166  2016       4.310345            3.157895              9.523810   \n",
       "167  2017       5.882353            6.024096              5.555556   \n",
       "168  2018       1.960784            2.222222              0.000000   \n",
       "\n",
       "     Fatality rate 5y_avg  Fatality rate male 5y_avg  \\\n",
       "164              9.461415                  10.177030   \n",
       "165              9.218181                   9.477782   \n",
       "166              7.624109                   7.364263   \n",
       "167              7.018402                   6.426225   \n",
       "168              5.109674                   4.787336   \n",
       "\n",
       "     Fatality rate female 5y_avg  \n",
       "164                     5.390884  \n",
       "165                     7.047198  \n",
       "166                     8.951960  \n",
       "167                    10.063071  \n",
       "168                     6.533660  "
      ]
     },
     "execution_count": 7,
     "metadata": {},
     "output_type": "execute_result"
    }
   ],
   "source": [
    "# A function that creates a new datafram called year_stats\n",
    "year_stats=myfunctions.year_stats(df_recent)\n",
    "year_stats.tail()"
   ]
  },
  {
   "cell_type": "code",
   "execution_count": 8,
   "id": "f7479498",
   "metadata": {},
   "outputs": [
    {
     "data": {
      "text/plain": [
       "<AxesSubplot:xlabel='Year', ylabel='Fatality rate'>"
      ]
     },
     "execution_count": 8,
     "metadata": {},
     "output_type": "execute_result"
    },
    {
     "data": {
      "image/png": "[encoded data removed]",
      "text/plain": [
       "<Figure size 432x288 with 1 Axes>"
      ]
     },
     "metadata": {
      "needs_background": "light"
     },
     "output_type": "display_data"
    }
   ],
   "source": [
    "sns.lineplot(data=year_stats, x='Year', y='Fatality rate')"
   ]
  },
  {
   "cell_type": "code",
   "execution_count": 9,
   "id": "58238d7e",
   "metadata": {},
   "outputs": [
    {
     "data": {
      "text/plain": [
       "<AxesSubplot:xlabel='Year', ylabel='Fatality rate 5y_avg'>"
      ]
     },
     "execution_count": 9,
     "metadata": {},
     "output_type": "execute_result"
    },
    {
     "data": {
      "image/png": "[encoded data removed]",
      "text/plain": [
       "<Figure size 432x288 with 1 Axes>"
      ]
     },
     "metadata": {
      "needs_background": "light"
     },
     "output_type": "display_data"
    }
   ],
   "source": [
    "sns.lineplot(data=year_stats, x='Year', y='Fatality rate 5y_avg')"
   ]
  },
  {
   "cell_type": "markdown",
   "id": "9bac21ce",
   "metadata": {},
   "source": [
    "As seen from the chart above the fatality rate of shark attacks has decreased, even though the number of attacks overall has increased. This could be attributed to better security measures, or simply to better reporting - meanung that in the past the attack was not reported if it was not serious or not fatal"
   ]
  },
  {
   "cell_type": "code",
   "execution_count": 10,
   "id": "8eb077c7",
   "metadata": {},
   "outputs": [
    {
     "data": {
      "text/plain": [
       "<AxesSubplot:xlabel='Sex', ylabel='count'>"
      ]
     },
     "execution_count": 10,
     "metadata": {},
     "output_type": "execute_result"
    },
    {
     "data": {
      "image/png": "[encoded data removed]",
      "text/plain": [
       "<Figure size 432x288 with 1 Axes>"
      ]
     },
     "metadata": {
      "needs_background": "light"
     },
     "output_type": "display_data"
    }
   ],
   "source": [
    "sns.countplot(data=df2, x=\"Sex\", hue=\"Fatal\")"
   ]
  },
  {
   "cell_type": "markdown",
   "id": "8bdb5877",
   "metadata": {},
   "source": [
    "It is quite obvious that men are more likely to get into a shark attack as they are known to take more risk. Next we see how the fatality rate differs between men and women"
   ]
  },
  {
   "cell_type": "code",
   "execution_count": 11,
   "id": "dc897c6c",
   "metadata": {},
   "outputs": [
    {
     "data": {
      "image/png": "[encoded data removed]",
      "text/plain": [
       "<Figure size 432x288 with 1 Axes>"
      ]
     },
     "metadata": {
      "needs_background": "light"
     },
     "output_type": "display_data"
    }
   ],
   "source": [
    "year_stats.plot(x='Year', y=['Fatality rate 5y_avg','Fatality rate male 5y_avg','Fatality rate female 5y_avg'], kind='line')\n",
    "plt.show()"
   ]
  },
  {
   "cell_type": "markdown",
   "id": "f92fea0d",
   "metadata": {},
   "source": [
    "## 1.1 Countries"
   ]
  },
  {
   "cell_type": "markdown",
   "id": "6e8e8504",
   "metadata": {},
   "source": [
    "Here we want to investigate in which countries did the attacks mostly happen"
   ]
  },
  {
   "cell_type": "code",
   "execution_count": 12,
   "id": "053b50cf",
   "metadata": {},
   "outputs": [
    {
     "data": {
      "text/html": [
       "<div>\n",
       "<style scoped>\n",
       "    .dataframe tbody tr th:only-of-type {\n",
       "        vertical-align: middle;\n",
       "    }\n",
       "\n",
       "    .dataframe tbody tr th {\n",
       "        vertical-align: top;\n",
       "    }\n",
       "\n",
       "    .dataframe thead th {\n",
       "        text-align: right;\n",
       "    }\n",
       "</style>\n",
       "<table border=\"1\" class=\"dataframe\">\n",
       "  <thead>\n",
       "    <tr style=\"text-align: right;\">\n",
       "      <th></th>\n",
       "      <th>Cases</th>\n",
       "      <th>Fatal</th>\n",
       "      <th>Not fatal</th>\n",
       "      <th>Males</th>\n",
       "      <th>Females</th>\n",
       "      <th>Males fatal</th>\n",
       "      <th>Females fatal</th>\n",
       "      <th>Fatality rate</th>\n",
       "      <th>Fatality rate males</th>\n",
       "      <th>Fatality rate females</th>\n",
       "    </tr>\n",
       "  </thead>\n",
       "  <tbody>\n",
       "    <tr>\n",
       "      <th>USA</th>\n",
       "      <td>1903</td>\n",
       "      <td>163</td>\n",
       "      <td>1740</td>\n",
       "      <td>1603</td>\n",
       "      <td>300</td>\n",
       "      <td>151</td>\n",
       "      <td>12</td>\n",
       "      <td>0.085654</td>\n",
       "      <td>0.094198</td>\n",
       "      <td>0.040000</td>\n",
       "    </tr>\n",
       "    <tr>\n",
       "      <th>Australia</th>\n",
       "      <td>1052</td>\n",
       "      <td>263</td>\n",
       "      <td>789</td>\n",
       "      <td>975</td>\n",
       "      <td>77</td>\n",
       "      <td>247</td>\n",
       "      <td>16</td>\n",
       "      <td>0.250000</td>\n",
       "      <td>0.253333</td>\n",
       "      <td>0.207792</td>\n",
       "    </tr>\n",
       "    <tr>\n",
       "      <th>South africa</th>\n",
       "      <td>450</td>\n",
       "      <td>98</td>\n",
       "      <td>352</td>\n",
       "      <td>431</td>\n",
       "      <td>19</td>\n",
       "      <td>93</td>\n",
       "      <td>5</td>\n",
       "      <td>0.217778</td>\n",
       "      <td>0.215777</td>\n",
       "      <td>0.263158</td>\n",
       "    </tr>\n",
       "    <tr>\n",
       "      <th>Papua new guinea</th>\n",
       "      <td>109</td>\n",
       "      <td>46</td>\n",
       "      <td>63</td>\n",
       "      <td>103</td>\n",
       "      <td>6</td>\n",
       "      <td>42</td>\n",
       "      <td>4</td>\n",
       "      <td>0.422018</td>\n",
       "      <td>0.407767</td>\n",
       "      <td>0.666667</td>\n",
       "    </tr>\n",
       "    <tr>\n",
       "      <th>New zealand</th>\n",
       "      <td>102</td>\n",
       "      <td>23</td>\n",
       "      <td>79</td>\n",
       "      <td>89</td>\n",
       "      <td>13</td>\n",
       "      <td>21</td>\n",
       "      <td>2</td>\n",
       "      <td>0.225490</td>\n",
       "      <td>0.235955</td>\n",
       "      <td>0.153846</td>\n",
       "    </tr>\n",
       "    <tr>\n",
       "      <th>Bahamas</th>\n",
       "      <td>99</td>\n",
       "      <td>10</td>\n",
       "      <td>89</td>\n",
       "      <td>84</td>\n",
       "      <td>15</td>\n",
       "      <td>9</td>\n",
       "      <td>1</td>\n",
       "      <td>0.101010</td>\n",
       "      <td>0.107143</td>\n",
       "      <td>0.066667</td>\n",
       "    </tr>\n",
       "    <tr>\n",
       "      <th>Brazil</th>\n",
       "      <td>88</td>\n",
       "      <td>32</td>\n",
       "      <td>56</td>\n",
       "      <td>83</td>\n",
       "      <td>5</td>\n",
       "      <td>31</td>\n",
       "      <td>1</td>\n",
       "      <td>0.363636</td>\n",
       "      <td>0.373494</td>\n",
       "      <td>0.200000</td>\n",
       "    </tr>\n",
       "    <tr>\n",
       "      <th>Mexico</th>\n",
       "      <td>69</td>\n",
       "      <td>36</td>\n",
       "      <td>33</td>\n",
       "      <td>58</td>\n",
       "      <td>11</td>\n",
       "      <td>30</td>\n",
       "      <td>6</td>\n",
       "      <td>0.521739</td>\n",
       "      <td>0.517241</td>\n",
       "      <td>0.545455</td>\n",
       "    </tr>\n",
       "    <tr>\n",
       "      <th>Fiji</th>\n",
       "      <td>53</td>\n",
       "      <td>19</td>\n",
       "      <td>34</td>\n",
       "      <td>46</td>\n",
       "      <td>7</td>\n",
       "      <td>16</td>\n",
       "      <td>3</td>\n",
       "      <td>0.358491</td>\n",
       "      <td>0.347826</td>\n",
       "      <td>0.428571</td>\n",
       "    </tr>\n",
       "    <tr>\n",
       "      <th>Reunion</th>\n",
       "      <td>52</td>\n",
       "      <td>24</td>\n",
       "      <td>28</td>\n",
       "      <td>50</td>\n",
       "      <td>2</td>\n",
       "      <td>22</td>\n",
       "      <td>2</td>\n",
       "      <td>0.461538</td>\n",
       "      <td>0.440000</td>\n",
       "      <td>1.000000</td>\n",
       "    </tr>\n",
       "    <tr>\n",
       "      <th>Italy</th>\n",
       "      <td>44</td>\n",
       "      <td>10</td>\n",
       "      <td>34</td>\n",
       "      <td>42</td>\n",
       "      <td>2</td>\n",
       "      <td>9</td>\n",
       "      <td>1</td>\n",
       "      <td>0.227273</td>\n",
       "      <td>0.214286</td>\n",
       "      <td>0.500000</td>\n",
       "    </tr>\n",
       "    <tr>\n",
       "      <th>Philippines</th>\n",
       "      <td>44</td>\n",
       "      <td>25</td>\n",
       "      <td>19</td>\n",
       "      <td>40</td>\n",
       "      <td>4</td>\n",
       "      <td>21</td>\n",
       "      <td>4</td>\n",
       "      <td>0.568182</td>\n",
       "      <td>0.525000</td>\n",
       "      <td>1.000000</td>\n",
       "    </tr>\n",
       "    <tr>\n",
       "      <th>New caledonia</th>\n",
       "      <td>36</td>\n",
       "      <td>16</td>\n",
       "      <td>20</td>\n",
       "      <td>33</td>\n",
       "      <td>3</td>\n",
       "      <td>14</td>\n",
       "      <td>2</td>\n",
       "      <td>0.444444</td>\n",
       "      <td>0.424242</td>\n",
       "      <td>0.666667</td>\n",
       "    </tr>\n",
       "    <tr>\n",
       "      <th>Egypt</th>\n",
       "      <td>34</td>\n",
       "      <td>10</td>\n",
       "      <td>24</td>\n",
       "      <td>25</td>\n",
       "      <td>9</td>\n",
       "      <td>8</td>\n",
       "      <td>2</td>\n",
       "      <td>0.294118</td>\n",
       "      <td>0.320000</td>\n",
       "      <td>0.222222</td>\n",
       "    </tr>\n",
       "    <tr>\n",
       "      <th>Mozambique</th>\n",
       "      <td>34</td>\n",
       "      <td>17</td>\n",
       "      <td>17</td>\n",
       "      <td>31</td>\n",
       "      <td>3</td>\n",
       "      <td>14</td>\n",
       "      <td>3</td>\n",
       "      <td>0.500000</td>\n",
       "      <td>0.451613</td>\n",
       "      <td>1.000000</td>\n",
       "    </tr>\n",
       "    <tr>\n",
       "      <th>Cuba</th>\n",
       "      <td>34</td>\n",
       "      <td>21</td>\n",
       "      <td>13</td>\n",
       "      <td>33</td>\n",
       "      <td>1</td>\n",
       "      <td>21</td>\n",
       "      <td>0</td>\n",
       "      <td>0.617647</td>\n",
       "      <td>0.636364</td>\n",
       "      <td>0.000000</td>\n",
       "    </tr>\n",
       "    <tr>\n",
       "      <th>Spain</th>\n",
       "      <td>29</td>\n",
       "      <td>7</td>\n",
       "      <td>22</td>\n",
       "      <td>23</td>\n",
       "      <td>6</td>\n",
       "      <td>7</td>\n",
       "      <td>0</td>\n",
       "      <td>0.241379</td>\n",
       "      <td>0.304348</td>\n",
       "      <td>0.000000</td>\n",
       "    </tr>\n",
       "    <tr>\n",
       "      <th>Panama</th>\n",
       "      <td>28</td>\n",
       "      <td>15</td>\n",
       "      <td>13</td>\n",
       "      <td>26</td>\n",
       "      <td>2</td>\n",
       "      <td>15</td>\n",
       "      <td>0</td>\n",
       "      <td>0.535714</td>\n",
       "      <td>0.576923</td>\n",
       "      <td>0.000000</td>\n",
       "    </tr>\n",
       "    <tr>\n",
       "      <th>Solomon islands</th>\n",
       "      <td>27</td>\n",
       "      <td>12</td>\n",
       "      <td>15</td>\n",
       "      <td>26</td>\n",
       "      <td>1</td>\n",
       "      <td>11</td>\n",
       "      <td>1</td>\n",
       "      <td>0.444444</td>\n",
       "      <td>0.423077</td>\n",
       "      <td>1.000000</td>\n",
       "    </tr>\n",
       "    <tr>\n",
       "      <th>Iran</th>\n",
       "      <td>26</td>\n",
       "      <td>10</td>\n",
       "      <td>16</td>\n",
       "      <td>24</td>\n",
       "      <td>2</td>\n",
       "      <td>8</td>\n",
       "      <td>2</td>\n",
       "      <td>0.384615</td>\n",
       "      <td>0.333333</td>\n",
       "      <td>1.000000</td>\n",
       "    </tr>\n",
       "  </tbody>\n",
       "</table>\n",
       "</div>"
      ],
      "text/plain": [
       "                  Cases  Fatal  Not fatal  Males  Females  Males fatal  \\\n",
       "USA                1903    163       1740   1603      300          151   \n",
       "Australia          1052    263        789    975       77          247   \n",
       "South africa        450     98        352    431       19           93   \n",
       "Papua new guinea    109     46         63    103        6           42   \n",
       "New zealand         102     23         79     89       13           21   \n",
       "Bahamas              99     10         89     84       15            9   \n",
       "Brazil               88     32         56     83        5           31   \n",
       "Mexico               69     36         33     58       11           30   \n",
       "Fiji                 53     19         34     46        7           16   \n",
       "Reunion              52     24         28     50        2           22   \n",
       "Italy                44     10         34     42        2            9   \n",
       "Philippines          44     25         19     40        4           21   \n",
       "New caledonia        36     16         20     33        3           14   \n",
       "Egypt                34     10         24     25        9            8   \n",
       "Mozambique           34     17         17     31        3           14   \n",
       "Cuba                 34     21         13     33        1           21   \n",
       "Spain                29      7         22     23        6            7   \n",
       "Panama               28     15         13     26        2           15   \n",
       "Solomon islands      27     12         15     26        1           11   \n",
       "Iran                 26     10         16     24        2            8   \n",
       "\n",
       "                  Females fatal  Fatality rate  Fatality rate males  \\\n",
       "USA                          12       0.085654             0.094198   \n",
       "Australia                    16       0.250000             0.253333   \n",
       "South africa                  5       0.217778             0.215777   \n",
       "Papua new guinea              4       0.422018             0.407767   \n",
       "New zealand                   2       0.225490             0.235955   \n",
       "Bahamas                       1       0.101010             0.107143   \n",
       "Brazil                        1       0.363636             0.373494   \n",
       "Mexico                        6       0.521739             0.517241   \n",
       "Fiji                          3       0.358491             0.347826   \n",
       "Reunion                       2       0.461538             0.440000   \n",
       "Italy                         1       0.227273             0.214286   \n",
       "Philippines                   4       0.568182             0.525000   \n",
       "New caledonia                 2       0.444444             0.424242   \n",
       "Egypt                         2       0.294118             0.320000   \n",
       "Mozambique                    3       0.500000             0.451613   \n",
       "Cuba                          0       0.617647             0.636364   \n",
       "Spain                         0       0.241379             0.304348   \n",
       "Panama                        0       0.535714             0.576923   \n",
       "Solomon islands               1       0.444444             0.423077   \n",
       "Iran                          2       0.384615             0.333333   \n",
       "\n",
       "                  Fatality rate females  \n",
       "USA                            0.040000  \n",
       "Australia                      0.207792  \n",
       "South africa                   0.263158  \n",
       "Papua new guinea               0.666667  \n",
       "New zealand                    0.153846  \n",
       "Bahamas                        0.066667  \n",
       "Brazil                         0.200000  \n",
       "Mexico                         0.545455  \n",
       "Fiji                           0.428571  \n",
       "Reunion                        1.000000  \n",
       "Italy                          0.500000  \n",
       "Philippines                    1.000000  \n",
       "New caledonia                  0.666667  \n",
       "Egypt                          0.222222  \n",
       "Mozambique                     1.000000  \n",
       "Cuba                           0.000000  \n",
       "Spain                          0.000000  \n",
       "Panama                         0.000000  \n",
       "Solomon islands                1.000000  \n",
       "Iran                           1.000000  "
      ]
     },
     "execution_count": 12,
     "metadata": {},
     "output_type": "execute_result"
    }
   ],
   "source": [
    "top20_df=myfunctions.country_stats(df_recent, 20)\n",
    "top20_df"
   ]
  },
  {
   "cell_type": "markdown",
   "id": "f6a873db",
   "metadata": {},
   "source": [
    "Where were the attacks most fatal?"
   ]
  },
  {
   "cell_type": "code",
   "execution_count": 13,
   "id": "87222a19",
   "metadata": {},
   "outputs": [
    {
     "data": {
      "image/png": "[encoded data removed]",
      "text/plain": [
       "<Figure size 432x288 with 1 Axes>"
      ]
     },
     "metadata": {
      "needs_background": "light"
     },
     "output_type": "display_data"
    }
   ],
   "source": [
    "top20_df['Fatal'].plot(y='Fatal',use_index=True, kind='bar', color='r')\n",
    "top20_df['Not fatal'].plot(y='Not fatal',use_index=True, kind='bar', bottom=top20_df['Fatal'], color='b')\n",
    "plt.show()"
   ]
  },
  {
   "cell_type": "code",
   "execution_count": 14,
   "id": "3cf9f1bd",
   "metadata": {},
   "outputs": [
    {
     "data": {
      "text/plain": [
       "<AxesSubplot:>"
      ]
     },
     "execution_count": 14,
     "metadata": {},
     "output_type": "execute_result"
    },
    {
     "data": {
      "image/png": "[encoded data removed]",
      "text/plain": [
       "<Figure size 432x288 with 1 Axes>"
      ]
     },
     "metadata": {
      "needs_background": "light"
     },
     "output_type": "display_data"
    }
   ],
   "source": [
    "top20_df['Fatality rate'].plot(y='Fatality rate',use_index=True, kind='bar')"
   ]
  },
  {
   "cell_type": "markdown",
   "id": "35e2e070",
   "metadata": {},
   "source": [
    "## 1.2 Sharks"
   ]
  },
  {
   "cell_type": "code",
   "execution_count": 15,
   "id": "eea0c74e",
   "metadata": {},
   "outputs": [
    {
     "data": {
      "text/plain": [
       "(array([0, 1, 2, 3, 4, 5, 6]),\n",
       " [Text(0, 0, 'White shark'),\n",
       "  Text(1, 0, 'Shark'),\n",
       "  Text(2, 0, 'Tiger shark'),\n",
       "  Text(3, 0, 'Bull shark'),\n",
       "  Text(4, 0, 'Wobbegong shark'),\n",
       "  Text(5, 0, 'Blacktip shark'),\n",
       "  Text(6, 0, 'Blue shark')])"
      ]
     },
     "execution_count": 15,
     "metadata": {},
     "output_type": "execute_result"
    },
    {
     "data": {
      "image/png": "[encoded data removed]",
      "text/plain": [
       "<Figure size 432x288 with 1 Axes>"
      ]
     },
     "metadata": {
      "needs_background": "light"
     },
     "output_type": "display_data"
    }
   ],
   "source": [
    "# Define the sharks and where they are mostly found\n",
    "sns.countplot(data=df2, x=\"Species\", hue=\"Fatal\")\n",
    "plt.xticks(rotation=60)"
   ]
  },
  {
   "cell_type": "markdown",
   "id": "24766c77",
   "metadata": {},
   "source": [
    "Most of the sharks are not clearly identified with names like \"3m shark\" or \"6' shark\" or \"something that looks like a shark\". Therefore these were replaced by simply Shark. Names like \"3m white shark\" or \"Great White shark\" were properly mapped and replaced by White shark.\n",
    "\n",
    "As you can see from the list, besides the misleading names, the most common species involved in attacks is the White shark followed by the Tiger shark."
   ]
  },
  {
   "cell_type": "markdown",
   "id": "bf306611",
   "metadata": {},
   "source": [
    "## 1.3 Activities"
   ]
  },
  {
   "cell_type": "markdown",
   "id": "4663d794",
   "metadata": {},
   "source": [
    "Which are the activities with the most shark attacks"
   ]
  },
  {
   "cell_type": "code",
   "execution_count": 16,
   "id": "4ed6577f",
   "metadata": {},
   "outputs": [
    {
     "data": {
      "text/plain": [
       "Surfing           1223\n",
       "Swimming          1098\n",
       "Fishing           1026\n",
       "Diving             388\n",
       "Standing           124\n",
       "Snorkeling          95\n",
       "Free diving         83\n",
       "Treading water      30\n",
       "Kayaking            30\n",
       "Fell overboard      29\n",
       "Name: Activity, dtype: int64"
      ]
     },
     "execution_count": 16,
     "metadata": {},
     "output_type": "execute_result"
    }
   ],
   "source": [
    "df2['Activity'].value_counts()[:10]"
   ]
  },
  {
   "cell_type": "code",
   "execution_count": 17,
   "id": "f18d3a12",
   "metadata": {},
   "outputs": [
    {
     "data": {
      "text/html": [
       "<div>\n",
       "<style scoped>\n",
       "    .dataframe tbody tr th:only-of-type {\n",
       "        vertical-align: middle;\n",
       "    }\n",
       "\n",
       "    .dataframe tbody tr th {\n",
       "        vertical-align: top;\n",
       "    }\n",
       "\n",
       "    .dataframe thead th {\n",
       "        text-align: right;\n",
       "    }\n",
       "</style>\n",
       "<table border=\"1\" class=\"dataframe\">\n",
       "  <thead>\n",
       "    <tr style=\"text-align: right;\">\n",
       "      <th></th>\n",
       "      <th>Cases</th>\n",
       "      <th>Fatal</th>\n",
       "      <th>Not fatal</th>\n",
       "      <th>Males</th>\n",
       "      <th>Females</th>\n",
       "      <th>Males fatal</th>\n",
       "      <th>Females fatal</th>\n",
       "      <th>Fatality rate</th>\n",
       "      <th>Fatality rate males</th>\n",
       "      <th>Fatality rate females</th>\n",
       "    </tr>\n",
       "  </thead>\n",
       "  <tbody>\n",
       "    <tr>\n",
       "      <th>Surfing</th>\n",
       "      <td>1223</td>\n",
       "      <td>83</td>\n",
       "      <td>1140</td>\n",
       "      <td>1132</td>\n",
       "      <td>91</td>\n",
       "      <td>80</td>\n",
       "      <td>3</td>\n",
       "      <td>0.067866</td>\n",
       "      <td>0.070671</td>\n",
       "      <td>0.032967</td>\n",
       "    </tr>\n",
       "    <tr>\n",
       "      <th>Swimming</th>\n",
       "      <td>1098</td>\n",
       "      <td>451</td>\n",
       "      <td>647</td>\n",
       "      <td>926</td>\n",
       "      <td>172</td>\n",
       "      <td>404</td>\n",
       "      <td>47</td>\n",
       "      <td>0.410747</td>\n",
       "      <td>0.436285</td>\n",
       "      <td>0.273256</td>\n",
       "    </tr>\n",
       "    <tr>\n",
       "      <th>Fishing</th>\n",
       "      <td>1026</td>\n",
       "      <td>152</td>\n",
       "      <td>874</td>\n",
       "      <td>952</td>\n",
       "      <td>74</td>\n",
       "      <td>148</td>\n",
       "      <td>4</td>\n",
       "      <td>0.148148</td>\n",
       "      <td>0.155462</td>\n",
       "      <td>0.054054</td>\n",
       "    </tr>\n",
       "    <tr>\n",
       "      <th>Diving</th>\n",
       "      <td>388</td>\n",
       "      <td>98</td>\n",
       "      <td>290</td>\n",
       "      <td>366</td>\n",
       "      <td>22</td>\n",
       "      <td>89</td>\n",
       "      <td>9</td>\n",
       "      <td>0.252577</td>\n",
       "      <td>0.243169</td>\n",
       "      <td>0.409091</td>\n",
       "    </tr>\n",
       "    <tr>\n",
       "      <th>Standing</th>\n",
       "      <td>124</td>\n",
       "      <td>21</td>\n",
       "      <td>103</td>\n",
       "      <td>90</td>\n",
       "      <td>34</td>\n",
       "      <td>17</td>\n",
       "      <td>4</td>\n",
       "      <td>0.169355</td>\n",
       "      <td>0.188889</td>\n",
       "      <td>0.117647</td>\n",
       "    </tr>\n",
       "    <tr>\n",
       "      <th>Snorkeling</th>\n",
       "      <td>95</td>\n",
       "      <td>15</td>\n",
       "      <td>80</td>\n",
       "      <td>51</td>\n",
       "      <td>44</td>\n",
       "      <td>9</td>\n",
       "      <td>6</td>\n",
       "      <td>0.157895</td>\n",
       "      <td>0.176471</td>\n",
       "      <td>0.136364</td>\n",
       "    </tr>\n",
       "    <tr>\n",
       "      <th>Free diving</th>\n",
       "      <td>83</td>\n",
       "      <td>18</td>\n",
       "      <td>65</td>\n",
       "      <td>80</td>\n",
       "      <td>3</td>\n",
       "      <td>16</td>\n",
       "      <td>2</td>\n",
       "      <td>0.216867</td>\n",
       "      <td>0.200000</td>\n",
       "      <td>0.666667</td>\n",
       "    </tr>\n",
       "    <tr>\n",
       "      <th>Treading water</th>\n",
       "      <td>30</td>\n",
       "      <td>7</td>\n",
       "      <td>23</td>\n",
       "      <td>29</td>\n",
       "      <td>1</td>\n",
       "      <td>7</td>\n",
       "      <td>0</td>\n",
       "      <td>0.233333</td>\n",
       "      <td>0.241379</td>\n",
       "      <td>0.000000</td>\n",
       "    </tr>\n",
       "    <tr>\n",
       "      <th>Kayaking</th>\n",
       "      <td>30</td>\n",
       "      <td>1</td>\n",
       "      <td>29</td>\n",
       "      <td>26</td>\n",
       "      <td>4</td>\n",
       "      <td>0</td>\n",
       "      <td>1</td>\n",
       "      <td>0.033333</td>\n",
       "      <td>0.000000</td>\n",
       "      <td>0.250000</td>\n",
       "    </tr>\n",
       "    <tr>\n",
       "      <th>Fell overboard</th>\n",
       "      <td>29</td>\n",
       "      <td>26</td>\n",
       "      <td>3</td>\n",
       "      <td>28</td>\n",
       "      <td>1</td>\n",
       "      <td>25</td>\n",
       "      <td>1</td>\n",
       "      <td>0.896552</td>\n",
       "      <td>0.892857</td>\n",
       "      <td>1.000000</td>\n",
       "    </tr>\n",
       "  </tbody>\n",
       "</table>\n",
       "</div>"
      ],
      "text/plain": [
       "                Cases  Fatal  Not fatal  Males  Females  Males fatal  \\\n",
       "Surfing          1223     83       1140   1132       91           80   \n",
       "Swimming         1098    451        647    926      172          404   \n",
       "Fishing          1026    152        874    952       74          148   \n",
       "Diving            388     98        290    366       22           89   \n",
       "Standing          124     21        103     90       34           17   \n",
       "Snorkeling         95     15         80     51       44            9   \n",
       "Free diving        83     18         65     80        3           16   \n",
       "Treading water     30      7         23     29        1            7   \n",
       "Kayaking           30      1         29     26        4            0   \n",
       "Fell overboard     29     26          3     28        1           25   \n",
       "\n",
       "                Females fatal  Fatality rate  Fatality rate males  \\\n",
       "Surfing                     3       0.067866             0.070671   \n",
       "Swimming                   47       0.410747             0.436285   \n",
       "Fishing                     4       0.148148             0.155462   \n",
       "Diving                      9       0.252577             0.243169   \n",
       "Standing                    4       0.169355             0.188889   \n",
       "Snorkeling                  6       0.157895             0.176471   \n",
       "Free diving                 2       0.216867             0.200000   \n",
       "Treading water              0       0.233333             0.241379   \n",
       "Kayaking                    1       0.033333             0.000000   \n",
       "Fell overboard              1       0.896552             0.892857   \n",
       "\n",
       "                Fatality rate females  \n",
       "Surfing                      0.032967  \n",
       "Swimming                     0.273256  \n",
       "Fishing                      0.054054  \n",
       "Diving                       0.409091  \n",
       "Standing                     0.117647  \n",
       "Snorkeling                   0.136364  \n",
       "Free diving                  0.666667  \n",
       "Treading water               0.000000  \n",
       "Kayaking                     0.250000  \n",
       "Fell overboard               1.000000  "
      ]
     },
     "execution_count": 17,
     "metadata": {},
     "output_type": "execute_result"
    }
   ],
   "source": [
    "top10_activity_df=myfunctions.activity_stats(df2,10)\n",
    "top10_activity_df"
   ]
  },
  {
   "cell_type": "code",
   "execution_count": 18,
   "id": "858fd39e",
   "metadata": {},
   "outputs": [
    {
     "data": {
      "text/plain": [
       "<AxesSubplot:>"
      ]
     },
     "execution_count": 18,
     "metadata": {},
     "output_type": "execute_result"
    },
    {
     "data": {
      "image/png": "[encoded data removed]",
      "text/plain": [
       "<Figure size 432x288 with 1 Axes>"
      ]
     },
     "metadata": {
      "needs_background": "light"
     },
     "output_type": "display_data"
    }
   ],
   "source": [
    "top10_activity_df['Fatality rate'].plot(y='Fatality rate',use_index=True, kind='bar')"
   ]
  },
  {
   "cell_type": "markdown",
   "id": "abe10a8b",
   "metadata": {},
   "source": [
    "# 2 Economic analysis"
   ]
  },
  {
   "cell_type": "markdown",
   "id": "bdc0427e",
   "metadata": {},
   "source": [
    "The main part of this reseach will focus on the historical analysis of shark attack occurencies and how does that correlate with some historical events and economic developments.\n",
    "\n",
    "Given the data that we have seen in the charts above, we will focus on United States, which have the largest and the most reliable dataset on shark attacks.\n",
    "\n",
    "This part of the research will focus on two hypothesses:\n",
    "\n",
    "1. The start of the hippie movement that started in the 1960s has lead to more people addopting going into surfing - the hypothesis will check if this resulted in more shark attacks due to surfing.\n",
    "\n",
    "2. If we remove the upward trend in shark attacks which is linked to surfing getting more popular in general, the remaining variation will be positively correlated to unemployment rate.\n",
    "\n"
   ]
  },
  {
   "cell_type": "markdown",
   "id": "1771b57f",
   "metadata": {},
   "source": [
    "## 2.1 The USA dataset"
   ]
  },
  {
   "cell_type": "code",
   "execution_count": 19,
   "id": "5583d90b",
   "metadata": {},
   "outputs": [
    {
     "data": {
      "text/plain": [
       "Surfing        689\n",
       "Fishing        348\n",
       "Swimming       348\n",
       "Diving          93\n",
       "Standing        65\n",
       "Free diving     29\n",
       "Snorkeling      27\n",
       "Kayaking        17\n",
       "Walking         10\n",
       "Floating         8\n",
       "Name: Activity, dtype: int64"
      ]
     },
     "execution_count": 19,
     "metadata": {},
     "output_type": "execute_result"
    }
   ],
   "source": [
    "df_usa=df2[(df2['Country']=='USA')&(df2['Year']>=1850)] # USA from year 1850\n",
    "df_usa['Activity'].value_counts()[:10]"
   ]
  },
  {
   "cell_type": "markdown",
   "id": "fb156533",
   "metadata": {},
   "source": [
    "As seen from the dataset above the top activities for being caught in a shark attack are Surfing, Fishing, Swiming and Diving. We look in more detail at these top activities:"
   ]
  },
  {
   "cell_type": "code",
   "execution_count": 20,
   "id": "68a31501",
   "metadata": {},
   "outputs": [
    {
     "data": {
      "text/plain": [
       "<AxesSubplot:xlabel='Year', ylabel='Count'>"
      ]
     },
     "execution_count": 20,
     "metadata": {},
     "output_type": "execute_result"
    },
    {
     "data": {
      "image/png": "[encoded data removed]",
      "text/plain": [
       "<Figure size 432x288 with 1 Axes>"
      ]
     },
     "metadata": {
      "needs_background": "light"
     },
     "output_type": "display_data"
    }
   ],
   "source": [
    "sns.histplot(data=df_usa[df_usa['Activity'].isin(['Swimming','Surfing','Fishing','Diving'])], x='Year', hue='Activity', multiple='stack')"
   ]
  },
  {
   "cell_type": "markdown",
   "id": "86d09538",
   "metadata": {},
   "source": [
    "## 2.2 Hypothesis 1 - Hippie revolution caused increase in surfer shark attacks"
   ]
  },
  {
   "cell_type": "markdown",
   "id": "136015e9",
   "metadata": {},
   "source": [
    "First we look at the histogram of surfing shark attacks in the USA"
   ]
  },
  {
   "cell_type": "code",
   "execution_count": 21,
   "id": "77483d9b",
   "metadata": {},
   "outputs": [
    {
     "data": {
      "text/plain": [
       "<AxesSubplot:xlabel='Year', ylabel='Count'>"
      ]
     },
     "execution_count": 21,
     "metadata": {},
     "output_type": "execute_result"
    },
    {
     "data": {
      "image/png": "[encoded data removed]",
      "text/plain": [
       "<Figure size 432x288 with 1 Axes>"
      ]
     },
     "metadata": {
      "needs_background": "light"
     },
     "output_type": "display_data"
    }
   ],
   "source": [
    "sns.histplot(data=df_usa[df_usa['Activity'].isin(['Surfing'])], x='Year', hue='Fatal', multiple='stack')"
   ]
  },
  {
   "cell_type": "markdown",
   "id": "009975c4",
   "metadata": {},
   "source": [
    "While the current dataset analyzed is from 1850, the surfing as activity in shark attacks list first appears only in 1950s, and with the real pick up at the end of 1960s.\n",
    "\n",
    "So it is safe to say that the hippie revolution did spark more surfing activity which is evident from higher number of shark attacks. But despite that the hippie period is over surfing remains to be a popular sport and attract a lot of shark attacs."
   ]
  },
  {
   "cell_type": "markdown",
   "id": "21aeec37",
   "metadata": {},
   "source": [
    "## 2.3 Hypothesis 2 - Correlation of shark attacks to unemployment rate in the US"
   ]
  },
  {
   "cell_type": "markdown",
   "id": "9759f953",
   "metadata": {},
   "source": [
    "The second and the most important hypothesis of the report is to prove that there is a correlation of shark attacks to the unemployment rate in the US."
   ]
  },
  {
   "cell_type": "markdown",
   "id": "fd7c58fe",
   "metadata": {},
   "source": [
    "First we will import the unemployment data from the St.Lewis FED database FRED, the link to the dataseries is here:\n",
    "https://fred.stlouisfed.org/series/UNRATE"
   ]
  },
  {
   "cell_type": "code",
   "execution_count": 22,
   "id": "c449af61",
   "metadata": {},
   "outputs": [
    {
     "data": {
      "text/html": [
       "<div>\n",
       "<style scoped>\n",
       "    .dataframe tbody tr th:only-of-type {\n",
       "        vertical-align: middle;\n",
       "    }\n",
       "\n",
       "    .dataframe tbody tr th {\n",
       "        vertical-align: top;\n",
       "    }\n",
       "\n",
       "    .dataframe thead th {\n",
       "        text-align: right;\n",
       "    }\n",
       "</style>\n",
       "<table border=\"1\" class=\"dataframe\">\n",
       "  <thead>\n",
       "    <tr style=\"text-align: right;\">\n",
       "      <th></th>\n",
       "      <th>DATE</th>\n",
       "      <th>UNRATE</th>\n",
       "      <th>Year</th>\n",
       "      <th>Month</th>\n",
       "      <th>Year-month</th>\n",
       "    </tr>\n",
       "  </thead>\n",
       "  <tbody>\n",
       "    <tr>\n",
       "      <th>0</th>\n",
       "      <td>31/12/1947</td>\n",
       "      <td>3.4</td>\n",
       "      <td>1947</td>\n",
       "      <td>Dec</td>\n",
       "      <td>1947-Dec</td>\n",
       "    </tr>\n",
       "    <tr>\n",
       "      <th>1</th>\n",
       "      <td>31/12/1948</td>\n",
       "      <td>4.3</td>\n",
       "      <td>1948</td>\n",
       "      <td>Dec</td>\n",
       "      <td>1948-Dec</td>\n",
       "    </tr>\n",
       "    <tr>\n",
       "      <th>2</th>\n",
       "      <td>31/12/1949</td>\n",
       "      <td>6.5</td>\n",
       "      <td>1949</td>\n",
       "      <td>Dec</td>\n",
       "      <td>1949-Dec</td>\n",
       "    </tr>\n",
       "    <tr>\n",
       "      <th>3</th>\n",
       "      <td>31/12/1950</td>\n",
       "      <td>3.7</td>\n",
       "      <td>1950</td>\n",
       "      <td>Dec</td>\n",
       "      <td>1950-Dec</td>\n",
       "    </tr>\n",
       "    <tr>\n",
       "      <th>4</th>\n",
       "      <td>31/12/1951</td>\n",
       "      <td>3.2</td>\n",
       "      <td>1951</td>\n",
       "      <td>Dec</td>\n",
       "      <td>1951-Dec</td>\n",
       "    </tr>\n",
       "    <tr>\n",
       "      <th>...</th>\n",
       "      <td>...</td>\n",
       "      <td>...</td>\n",
       "      <td>...</td>\n",
       "      <td>...</td>\n",
       "      <td>...</td>\n",
       "    </tr>\n",
       "    <tr>\n",
       "      <th>66</th>\n",
       "      <td>31/12/2013</td>\n",
       "      <td>6.6</td>\n",
       "      <td>2013</td>\n",
       "      <td>Dec</td>\n",
       "      <td>2013-Dec</td>\n",
       "    </tr>\n",
       "    <tr>\n",
       "      <th>67</th>\n",
       "      <td>31/12/2014</td>\n",
       "      <td>5.7</td>\n",
       "      <td>2014</td>\n",
       "      <td>Dec</td>\n",
       "      <td>2014-Dec</td>\n",
       "    </tr>\n",
       "    <tr>\n",
       "      <th>68</th>\n",
       "      <td>31/12/2015</td>\n",
       "      <td>4.8</td>\n",
       "      <td>2015</td>\n",
       "      <td>Dec</td>\n",
       "      <td>2015-Dec</td>\n",
       "    </tr>\n",
       "    <tr>\n",
       "      <th>69</th>\n",
       "      <td>31/12/2016</td>\n",
       "      <td>4.7</td>\n",
       "      <td>2016</td>\n",
       "      <td>Dec</td>\n",
       "      <td>2016-Dec</td>\n",
       "    </tr>\n",
       "    <tr>\n",
       "      <th>70</th>\n",
       "      <td>31/12/2017</td>\n",
       "      <td>4.0</td>\n",
       "      <td>2017</td>\n",
       "      <td>Dec</td>\n",
       "      <td>2017-Dec</td>\n",
       "    </tr>\n",
       "  </tbody>\n",
       "</table>\n",
       "<p>71 rows × 5 columns</p>\n",
       "</div>"
      ],
      "text/plain": [
       "          DATE  UNRATE  Year Month Year-month\n",
       "0   31/12/1947     3.4  1947   Dec   1947-Dec\n",
       "1   31/12/1948     4.3  1948   Dec   1948-Dec\n",
       "2   31/12/1949     6.5  1949   Dec   1949-Dec\n",
       "3   31/12/1950     3.7  1950   Dec   1950-Dec\n",
       "4   31/12/1951     3.2  1951   Dec   1951-Dec\n",
       "..         ...     ...   ...   ...        ...\n",
       "66  31/12/2013     6.6  2013   Dec   2013-Dec\n",
       "67  31/12/2014     5.7  2014   Dec   2014-Dec\n",
       "68  31/12/2015     4.8  2015   Dec   2015-Dec\n",
       "69  31/12/2016     4.7  2016   Dec   2016-Dec\n",
       "70  31/12/2017     4.0  2017   Dec   2017-Dec\n",
       "\n",
       "[71 rows x 5 columns]"
      ]
     },
     "execution_count": 22,
     "metadata": {},
     "output_type": "execute_result"
    }
   ],
   "source": [
    "unrate=pd.read_csv(\"./input/UNRATE.csv\")\n",
    "unrate"
   ]
  },
  {
   "cell_type": "markdown",
   "id": "1c2cb674",
   "metadata": {},
   "source": [
    "Use the Unemployment rate dataframe to add information about the shark attacks in the USA"
   ]
  },
  {
   "cell_type": "code",
   "execution_count": 23,
   "id": "c6a2d581",
   "metadata": {},
   "outputs": [
    {
     "name": "stderr",
     "output_type": "stream",
     "text": [
      "C:\\Users\\vikto\\anaconda3\\envs\\Ironhack\\lib\\site-packages\\pandas\\core\\arraylike.py:397: RuntimeWarning: divide by zero encountered in log\n",
      "  result = getattr(ufunc, method)(*inputs, **kwargs)\n",
      "C:\\Users\\vikto\\anaconda3\\envs\\Ironhack\\lib\\site-packages\\pandas\\core\\arraylike.py:397: RuntimeWarning: divide by zero encountered in log\n",
      "  result = getattr(ufunc, method)(*inputs, **kwargs)\n",
      "C:\\Users\\vikto\\anaconda3\\envs\\Ironhack\\lib\\site-packages\\pandas\\core\\arraylike.py:397: RuntimeWarning: divide by zero encountered in log\n",
      "  result = getattr(ufunc, method)(*inputs, **kwargs)\n",
      "C:\\Users\\vikto\\anaconda3\\envs\\Ironhack\\lib\\site-packages\\pandas\\core\\arraylike.py:397: RuntimeWarning: divide by zero encountered in log\n",
      "  result = getattr(ufunc, method)(*inputs, **kwargs)\n"
     ]
    },
    {
     "data": {
      "text/html": [
       "<div>\n",
       "<style scoped>\n",
       "    .dataframe tbody tr th:only-of-type {\n",
       "        vertical-align: middle;\n",
       "    }\n",
       "\n",
       "    .dataframe tbody tr th {\n",
       "        vertical-align: top;\n",
       "    }\n",
       "\n",
       "    .dataframe thead th {\n",
       "        text-align: right;\n",
       "    }\n",
       "</style>\n",
       "<table border=\"1\" class=\"dataframe\">\n",
       "  <thead>\n",
       "    <tr style=\"text-align: right;\">\n",
       "      <th></th>\n",
       "      <th>DATE</th>\n",
       "      <th>UNRATE</th>\n",
       "      <th>Year</th>\n",
       "      <th>Month</th>\n",
       "      <th>Year-month</th>\n",
       "      <th>Cases</th>\n",
       "      <th>Fatal_y</th>\n",
       "      <th>Surfing</th>\n",
       "      <th>Surfing fatal</th>\n",
       "      <th>Fishing</th>\n",
       "      <th>...</th>\n",
       "      <th>Swimming</th>\n",
       "      <th>Swimming fatal</th>\n",
       "      <th>Diving</th>\n",
       "      <th>Diving fatal</th>\n",
       "      <th>UNRATE_log</th>\n",
       "      <th>Cases_log</th>\n",
       "      <th>Surfing_log</th>\n",
       "      <th>Fishing_log</th>\n",
       "      <th>Swimming_log</th>\n",
       "      <th>Diving_log</th>\n",
       "    </tr>\n",
       "  </thead>\n",
       "  <tbody>\n",
       "    <tr>\n",
       "      <th>0</th>\n",
       "      <td>31/12/1947</td>\n",
       "      <td>3.4</td>\n",
       "      <td>1947</td>\n",
       "      <td>Dec</td>\n",
       "      <td>1947-Dec</td>\n",
       "      <td>3</td>\n",
       "      <td>1</td>\n",
       "      <td>0</td>\n",
       "      <td>0</td>\n",
       "      <td>2</td>\n",
       "      <td>...</td>\n",
       "      <td>1</td>\n",
       "      <td>1</td>\n",
       "      <td>0</td>\n",
       "      <td>0</td>\n",
       "      <td>1.223775</td>\n",
       "      <td>1.098612</td>\n",
       "      <td>-inf</td>\n",
       "      <td>0.693147</td>\n",
       "      <td>0.000000</td>\n",
       "      <td>-inf</td>\n",
       "    </tr>\n",
       "    <tr>\n",
       "      <th>1</th>\n",
       "      <td>31/12/1948</td>\n",
       "      <td>4.3</td>\n",
       "      <td>1948</td>\n",
       "      <td>Dec</td>\n",
       "      <td>1948-Dec</td>\n",
       "      <td>5</td>\n",
       "      <td>2</td>\n",
       "      <td>0</td>\n",
       "      <td>0</td>\n",
       "      <td>1</td>\n",
       "      <td>...</td>\n",
       "      <td>2</td>\n",
       "      <td>1</td>\n",
       "      <td>0</td>\n",
       "      <td>0</td>\n",
       "      <td>1.458615</td>\n",
       "      <td>1.609438</td>\n",
       "      <td>-inf</td>\n",
       "      <td>0.000000</td>\n",
       "      <td>0.693147</td>\n",
       "      <td>-inf</td>\n",
       "    </tr>\n",
       "    <tr>\n",
       "      <th>2</th>\n",
       "      <td>31/12/1949</td>\n",
       "      <td>6.5</td>\n",
       "      <td>1949</td>\n",
       "      <td>Dec</td>\n",
       "      <td>1949-Dec</td>\n",
       "      <td>2</td>\n",
       "      <td>0</td>\n",
       "      <td>0</td>\n",
       "      <td>0</td>\n",
       "      <td>1</td>\n",
       "      <td>...</td>\n",
       "      <td>0</td>\n",
       "      <td>0</td>\n",
       "      <td>0</td>\n",
       "      <td>0</td>\n",
       "      <td>1.871802</td>\n",
       "      <td>0.693147</td>\n",
       "      <td>-inf</td>\n",
       "      <td>0.000000</td>\n",
       "      <td>-inf</td>\n",
       "      <td>-inf</td>\n",
       "    </tr>\n",
       "    <tr>\n",
       "      <th>3</th>\n",
       "      <td>31/12/1950</td>\n",
       "      <td>3.7</td>\n",
       "      <td>1950</td>\n",
       "      <td>Dec</td>\n",
       "      <td>1950-Dec</td>\n",
       "      <td>6</td>\n",
       "      <td>1</td>\n",
       "      <td>1</td>\n",
       "      <td>0</td>\n",
       "      <td>0</td>\n",
       "      <td>...</td>\n",
       "      <td>2</td>\n",
       "      <td>0</td>\n",
       "      <td>1</td>\n",
       "      <td>0</td>\n",
       "      <td>1.308333</td>\n",
       "      <td>1.791759</td>\n",
       "      <td>0.000000</td>\n",
       "      <td>-inf</td>\n",
       "      <td>0.693147</td>\n",
       "      <td>0.000000</td>\n",
       "    </tr>\n",
       "    <tr>\n",
       "      <th>4</th>\n",
       "      <td>31/12/1951</td>\n",
       "      <td>3.2</td>\n",
       "      <td>1951</td>\n",
       "      <td>Dec</td>\n",
       "      <td>1951-Dec</td>\n",
       "      <td>2</td>\n",
       "      <td>1</td>\n",
       "      <td>0</td>\n",
       "      <td>0</td>\n",
       "      <td>1</td>\n",
       "      <td>...</td>\n",
       "      <td>0</td>\n",
       "      <td>0</td>\n",
       "      <td>0</td>\n",
       "      <td>0</td>\n",
       "      <td>1.163151</td>\n",
       "      <td>0.693147</td>\n",
       "      <td>-inf</td>\n",
       "      <td>0.000000</td>\n",
       "      <td>-inf</td>\n",
       "      <td>-inf</td>\n",
       "    </tr>\n",
       "    <tr>\n",
       "      <th>...</th>\n",
       "      <td>...</td>\n",
       "      <td>...</td>\n",
       "      <td>...</td>\n",
       "      <td>...</td>\n",
       "      <td>...</td>\n",
       "      <td>...</td>\n",
       "      <td>...</td>\n",
       "      <td>...</td>\n",
       "      <td>...</td>\n",
       "      <td>...</td>\n",
       "      <td>...</td>\n",
       "      <td>...</td>\n",
       "      <td>...</td>\n",
       "      <td>...</td>\n",
       "      <td>...</td>\n",
       "      <td>...</td>\n",
       "      <td>...</td>\n",
       "      <td>...</td>\n",
       "      <td>...</td>\n",
       "      <td>...</td>\n",
       "      <td>...</td>\n",
       "    </tr>\n",
       "    <tr>\n",
       "      <th>66</th>\n",
       "      <td>31/12/2013</td>\n",
       "      <td>6.6</td>\n",
       "      <td>2013</td>\n",
       "      <td>Dec</td>\n",
       "      <td>2013-Dec</td>\n",
       "      <td>56</td>\n",
       "      <td>2</td>\n",
       "      <td>28</td>\n",
       "      <td>0</td>\n",
       "      <td>7</td>\n",
       "      <td>...</td>\n",
       "      <td>12</td>\n",
       "      <td>0</td>\n",
       "      <td>2</td>\n",
       "      <td>0</td>\n",
       "      <td>1.887070</td>\n",
       "      <td>4.025352</td>\n",
       "      <td>3.332205</td>\n",
       "      <td>1.945910</td>\n",
       "      <td>2.484907</td>\n",
       "      <td>0.693147</td>\n",
       "    </tr>\n",
       "    <tr>\n",
       "      <th>67</th>\n",
       "      <td>31/12/2014</td>\n",
       "      <td>5.7</td>\n",
       "      <td>2014</td>\n",
       "      <td>Dec</td>\n",
       "      <td>2014-Dec</td>\n",
       "      <td>61</td>\n",
       "      <td>0</td>\n",
       "      <td>29</td>\n",
       "      <td>0</td>\n",
       "      <td>7</td>\n",
       "      <td>...</td>\n",
       "      <td>10</td>\n",
       "      <td>0</td>\n",
       "      <td>0</td>\n",
       "      <td>0</td>\n",
       "      <td>1.740466</td>\n",
       "      <td>4.110874</td>\n",
       "      <td>3.367296</td>\n",
       "      <td>1.945910</td>\n",
       "      <td>2.302585</td>\n",
       "      <td>-inf</td>\n",
       "    </tr>\n",
       "    <tr>\n",
       "      <th>68</th>\n",
       "      <td>31/12/2015</td>\n",
       "      <td>4.8</td>\n",
       "      <td>2015</td>\n",
       "      <td>Dec</td>\n",
       "      <td>2015-Dec</td>\n",
       "      <td>66</td>\n",
       "      <td>1</td>\n",
       "      <td>22</td>\n",
       "      <td>0</td>\n",
       "      <td>18</td>\n",
       "      <td>...</td>\n",
       "      <td>10</td>\n",
       "      <td>0</td>\n",
       "      <td>0</td>\n",
       "      <td>0</td>\n",
       "      <td>1.568616</td>\n",
       "      <td>4.189655</td>\n",
       "      <td>3.091042</td>\n",
       "      <td>2.890372</td>\n",
       "      <td>2.302585</td>\n",
       "      <td>-inf</td>\n",
       "    </tr>\n",
       "    <tr>\n",
       "      <th>69</th>\n",
       "      <td>31/12/2016</td>\n",
       "      <td>4.7</td>\n",
       "      <td>2016</td>\n",
       "      <td>Dec</td>\n",
       "      <td>2016-Dec</td>\n",
       "      <td>58</td>\n",
       "      <td>0</td>\n",
       "      <td>25</td>\n",
       "      <td>0</td>\n",
       "      <td>10</td>\n",
       "      <td>...</td>\n",
       "      <td>10</td>\n",
       "      <td>0</td>\n",
       "      <td>0</td>\n",
       "      <td>0</td>\n",
       "      <td>1.547563</td>\n",
       "      <td>4.060443</td>\n",
       "      <td>3.218876</td>\n",
       "      <td>2.302585</td>\n",
       "      <td>2.302585</td>\n",
       "      <td>-inf</td>\n",
       "    </tr>\n",
       "    <tr>\n",
       "      <th>70</th>\n",
       "      <td>31/12/2017</td>\n",
       "      <td>4.0</td>\n",
       "      <td>2017</td>\n",
       "      <td>Dec</td>\n",
       "      <td>2017-Dec</td>\n",
       "      <td>56</td>\n",
       "      <td>0</td>\n",
       "      <td>23</td>\n",
       "      <td>0</td>\n",
       "      <td>6</td>\n",
       "      <td>...</td>\n",
       "      <td>14</td>\n",
       "      <td>0</td>\n",
       "      <td>0</td>\n",
       "      <td>0</td>\n",
       "      <td>1.386294</td>\n",
       "      <td>4.025352</td>\n",
       "      <td>3.135494</td>\n",
       "      <td>1.791759</td>\n",
       "      <td>2.639057</td>\n",
       "      <td>-inf</td>\n",
       "    </tr>\n",
       "  </tbody>\n",
       "</table>\n",
       "<p>71 rows × 21 columns</p>\n",
       "</div>"
      ],
      "text/plain": [
       "          DATE  UNRATE  Year Month Year-month  Cases  Fatal_y  Surfing  \\\n",
       "0   31/12/1947     3.4  1947   Dec   1947-Dec      3        1        0   \n",
       "1   31/12/1948     4.3  1948   Dec   1948-Dec      5        2        0   \n",
       "2   31/12/1949     6.5  1949   Dec   1949-Dec      2        0        0   \n",
       "3   31/12/1950     3.7  1950   Dec   1950-Dec      6        1        1   \n",
       "4   31/12/1951     3.2  1951   Dec   1951-Dec      2        1        0   \n",
       "..         ...     ...   ...   ...        ...    ...      ...      ...   \n",
       "66  31/12/2013     6.6  2013   Dec   2013-Dec     56        2       28   \n",
       "67  31/12/2014     5.7  2014   Dec   2014-Dec     61        0       29   \n",
       "68  31/12/2015     4.8  2015   Dec   2015-Dec     66        1       22   \n",
       "69  31/12/2016     4.7  2016   Dec   2016-Dec     58        0       25   \n",
       "70  31/12/2017     4.0  2017   Dec   2017-Dec     56        0       23   \n",
       "\n",
       "    Surfing fatal  Fishing  ...  Swimming  Swimming fatal  Diving  \\\n",
       "0               0        2  ...         1               1       0   \n",
       "1               0        1  ...         2               1       0   \n",
       "2               0        1  ...         0               0       0   \n",
       "3               0        0  ...         2               0       1   \n",
       "4               0        1  ...         0               0       0   \n",
       "..            ...      ...  ...       ...             ...     ...   \n",
       "66              0        7  ...        12               0       2   \n",
       "67              0        7  ...        10               0       0   \n",
       "68              0       18  ...        10               0       0   \n",
       "69              0       10  ...        10               0       0   \n",
       "70              0        6  ...        14               0       0   \n",
       "\n",
       "    Diving fatal  UNRATE_log  Cases_log  Surfing_log  Fishing_log  \\\n",
       "0              0    1.223775   1.098612         -inf     0.693147   \n",
       "1              0    1.458615   1.609438         -inf     0.000000   \n",
       "2              0    1.871802   0.693147         -inf     0.000000   \n",
       "3              0    1.308333   1.791759     0.000000         -inf   \n",
       "4              0    1.163151   0.693147         -inf     0.000000   \n",
       "..           ...         ...        ...          ...          ...   \n",
       "66             0    1.887070   4.025352     3.332205     1.945910   \n",
       "67             0    1.740466   4.110874     3.367296     1.945910   \n",
       "68             0    1.568616   4.189655     3.091042     2.890372   \n",
       "69             0    1.547563   4.060443     3.218876     2.302585   \n",
       "70             0    1.386294   4.025352     3.135494     1.791759   \n",
       "\n",
       "    Swimming_log  Diving_log  \n",
       "0       0.000000        -inf  \n",
       "1       0.693147        -inf  \n",
       "2           -inf        -inf  \n",
       "3       0.693147    0.000000  \n",
       "4           -inf        -inf  \n",
       "..           ...         ...  \n",
       "66      2.484907    0.693147  \n",
       "67      2.302585        -inf  \n",
       "68      2.302585        -inf  \n",
       "69      2.302585        -inf  \n",
       "70      2.639057        -inf  \n",
       "\n",
       "[71 rows x 21 columns]"
      ]
     },
     "execution_count": 23,
     "metadata": {},
     "output_type": "execute_result"
    }
   ],
   "source": [
    "unrate=myfunctions.usa_database(unrate,df_usa)\n"
   ]
  },
  {
   "cell_type": "markdown",
   "id": "3d11c2f5",
   "metadata": {},
   "source": [
    "Do a scatter plot of how the unemployment rate relates to the total number of shark attacks, but also to the top 3 activities involved in shark attacks. See if there is any relationship."
   ]
  },
  {
   "cell_type": "code",
   "execution_count": 64,
   "id": "e2adab3e",
   "metadata": {},
   "outputs": [
    {
     "data": {
      "text/plain": [
       "[<matplotlib.lines.Line2D at 0x1900af5b0d0>]"
      ]
     },
     "execution_count": 64,
     "metadata": {},
     "output_type": "execute_result"
    },
    {
     "data": {
      "image/png": "[encoded data removed]",
      "text/plain": [
       "<Figure size 720x720 with 4 Axes>"
      ]
     },
     "metadata": {
      "needs_background": "light"
     },
     "output_type": "display_data"
    }
   ],
   "source": [
    "fig, axs = plt.subplots(2, 2, figsize=(10,10))\n",
    "\n",
    "axs[0, 0].plot(unrate['UNRATE'], unrate['Cases'], 'ro')\n",
    "axs[0, 0].set_title('Total cases')\n",
    "axs[0, 0].plot(np.unique(unrate['UNRATE']), np.poly1d(np.polyfit(unrate['UNRATE'], unrate['Cases'], 1))(np.unique(unrate['UNRATE'])))\n",
    "axs[0, 1].plot(unrate['UNRATE'], unrate['Surfing'], 'bo')\n",
    "axs[0, 1].set_title('Surfing')\n",
    "axs[0, 1].plot(np.unique(unrate['UNRATE']), np.poly1d(np.polyfit(unrate['UNRATE'], unrate['Surfing'], 1))(np.unique(unrate['UNRATE'])))\n",
    "axs[1, 0].plot(unrate['UNRATE'], unrate['Swimming'], 'yo')\n",
    "axs[1, 0].set_title('Swimming')\n",
    "axs[1, 0].plot(np.unique(unrate['UNRATE']), np.poly1d(np.polyfit(unrate['UNRATE'], unrate['Swimming'], 1))(np.unique(unrate['UNRATE'])))\n",
    "axs[1, 1].plot(unrate['UNRATE'], unrate['Fishing'], 'go')\n",
    "axs[1, 1].set_title('Fishing')\n",
    "axs[1, 1].plot(np.unique(unrate['UNRATE']), np.poly1d(np.polyfit(unrate['UNRATE'], unrate['Fishing'], 1))(np.unique(unrate['UNRATE'])))\n",
    "\n",
    "\n"
   ]
  },
  {
   "cell_type": "markdown",
   "id": "5e2d06ce",
   "metadata": {},
   "source": [
    "As seen from the four charts above there is some positive correlation between shark attacks and the unemployment rate. The relationship as described by the slope of the regression line is the strongest with attacks while surfing.\n",
    "\n",
    "What this means is that the higher unemployment rate results in higher shark attacks while surfing through either more people taking to surfing, or amateur surfers coming from the corporate world and getting caught in shark attacks.\n",
    "\n",
    "In either way it is clear that higher unemployment leads to more shark attacks - **please keep unemployment low!**"
   ]
  },
  {
   "cell_type": "code",
   "execution_count": null,
   "id": "8841d7a4",
   "metadata": {},
   "outputs": [],
   "source": []
  }
 ],
 "metadata": {
  "kernelspec": {
   "display_name": "Python 3 (ipykernel)",
   "language": "python",
   "name": "python3"
  },
  "language_info": {
   "codemirror_mode": {
    "name": "ipython",
    "version": 3
   },
   "file_extension": ".py",
   "mimetype": "text/x-python",
   "name": "python",
   "nbconvert_exporter": "python",
   "pygments_lexer": "ipython3",
   "version": "3.8.13"
  }
 },
 "nbformat": 4,
 "nbformat_minor": 5
}
