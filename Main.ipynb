{
 "cells": [
  {
   "cell_type": "code",
   "execution_count": 17,
   "id": "d903c820",
   "metadata": {},
   "outputs": [],
   "source": [
    "import pandas as pd\n",
    "import seaborn as sns\n",
    "import matplotlib.pyplot as plt\n",
    "import re"
   ]
  },
  {
   "cell_type": "code",
   "execution_count": 15,
   "id": "1408945e",
   "metadata": {},
   "outputs": [],
   "source": [
    "# note that for Windows Python 3.8. you need to use ./ to indicate parent directory\n",
    "# in some other systems it might be ../\n",
    "\n",
    "df=pd.read_csv(\"./input/attacks.csv\", encoding='ISO-8859-1')"
   ]
  },
  {
   "cell_type": "code",
   "execution_count": 46,
   "id": "8e7d0daa",
   "metadata": {},
   "outputs": [
    {
     "data": {
      "text/html": [
       "<div>\n",
       "<style scoped>\n",
       "    .dataframe tbody tr th:only-of-type {\n",
       "        vertical-align: middle;\n",
       "    }\n",
       "\n",
       "    .dataframe tbody tr th {\n",
       "        vertical-align: top;\n",
       "    }\n",
       "\n",
       "    .dataframe thead th {\n",
       "        text-align: right;\n",
       "    }\n",
       "</style>\n",
       "<table border=\"1\" class=\"dataframe\">\n",
       "  <thead>\n",
       "    <tr style=\"text-align: right;\">\n",
       "      <th></th>\n",
       "      <th>Case Number</th>\n",
       "      <th>Date</th>\n",
       "      <th>Year</th>\n",
       "      <th>Type</th>\n",
       "      <th>Country</th>\n",
       "      <th>Area</th>\n",
       "      <th>Location</th>\n",
       "      <th>Activity</th>\n",
       "      <th>Name</th>\n",
       "      <th>Sex</th>\n",
       "      <th>...</th>\n",
       "      <th>Species</th>\n",
       "      <th>Investigator or Source</th>\n",
       "      <th>pdf</th>\n",
       "      <th>href formula</th>\n",
       "      <th>href</th>\n",
       "      <th>Case Number.1</th>\n",
       "      <th>Case Number.2</th>\n",
       "      <th>original order</th>\n",
       "      <th>Unnamed: 22</th>\n",
       "      <th>Unnamed: 23</th>\n",
       "    </tr>\n",
       "  </thead>\n",
       "  <tbody>\n",
       "    <tr>\n",
       "      <th>0</th>\n",
       "      <td>2018.06.25</td>\n",
       "      <td>25-Jun-2018</td>\n",
       "      <td>2018.0</td>\n",
       "      <td>Boating</td>\n",
       "      <td>USA</td>\n",
       "      <td>California</td>\n",
       "      <td>Oceanside, San Diego County</td>\n",
       "      <td>Paddling</td>\n",
       "      <td>Julie Wolfe</td>\n",
       "      <td>F</td>\n",
       "      <td>...</td>\n",
       "      <td>White shark</td>\n",
       "      <td>R. Collier, GSAF</td>\n",
       "      <td>2018.06.25-Wolfe.pdf</td>\n",
       "      <td>http://sharkattackfile.net/spreadsheets/pdf_di...</td>\n",
       "      <td>http://sharkattackfile.net/spreadsheets/pdf_di...</td>\n",
       "      <td>2018.06.25</td>\n",
       "      <td>2018.06.25</td>\n",
       "      <td>6303.0</td>\n",
       "      <td>NaN</td>\n",
       "      <td>NaN</td>\n",
       "    </tr>\n",
       "    <tr>\n",
       "      <th>1</th>\n",
       "      <td>2018.06.18</td>\n",
       "      <td>18-Jun-2018</td>\n",
       "      <td>2018.0</td>\n",
       "      <td>Unprovoked</td>\n",
       "      <td>USA</td>\n",
       "      <td>Georgia</td>\n",
       "      <td>St. Simon Island, Glynn County</td>\n",
       "      <td>Standing</td>\n",
       "      <td>Adyson McNeely</td>\n",
       "      <td>F</td>\n",
       "      <td>...</td>\n",
       "      <td>NaN</td>\n",
       "      <td>K.McMurray, TrackingSharks.com</td>\n",
       "      <td>2018.06.18-McNeely.pdf</td>\n",
       "      <td>http://sharkattackfile.net/spreadsheets/pdf_di...</td>\n",
       "      <td>http://sharkattackfile.net/spreadsheets/pdf_di...</td>\n",
       "      <td>2018.06.18</td>\n",
       "      <td>2018.06.18</td>\n",
       "      <td>6302.0</td>\n",
       "      <td>NaN</td>\n",
       "      <td>NaN</td>\n",
       "    </tr>\n",
       "    <tr>\n",
       "      <th>2</th>\n",
       "      <td>2018.06.09</td>\n",
       "      <td>09-Jun-2018</td>\n",
       "      <td>2018.0</td>\n",
       "      <td>Invalid</td>\n",
       "      <td>USA</td>\n",
       "      <td>Hawaii</td>\n",
       "      <td>Habush, Oahu</td>\n",
       "      <td>Surfing</td>\n",
       "      <td>John Denges</td>\n",
       "      <td>M</td>\n",
       "      <td>...</td>\n",
       "      <td>NaN</td>\n",
       "      <td>K.McMurray, TrackingSharks.com</td>\n",
       "      <td>2018.06.09-Denges.pdf</td>\n",
       "      <td>http://sharkattackfile.net/spreadsheets/pdf_di...</td>\n",
       "      <td>http://sharkattackfile.net/spreadsheets/pdf_di...</td>\n",
       "      <td>2018.06.09</td>\n",
       "      <td>2018.06.09</td>\n",
       "      <td>6301.0</td>\n",
       "      <td>NaN</td>\n",
       "      <td>NaN</td>\n",
       "    </tr>\n",
       "    <tr>\n",
       "      <th>3</th>\n",
       "      <td>2018.06.08</td>\n",
       "      <td>08-Jun-2018</td>\n",
       "      <td>2018.0</td>\n",
       "      <td>Unprovoked</td>\n",
       "      <td>AUSTRALIA</td>\n",
       "      <td>New South Wales</td>\n",
       "      <td>Arrawarra Headland</td>\n",
       "      <td>Surfing</td>\n",
       "      <td>male</td>\n",
       "      <td>M</td>\n",
       "      <td>...</td>\n",
       "      <td>2 m shark</td>\n",
       "      <td>B. Myatt, GSAF</td>\n",
       "      <td>2018.06.08-Arrawarra.pdf</td>\n",
       "      <td>http://sharkattackfile.net/spreadsheets/pdf_di...</td>\n",
       "      <td>http://sharkattackfile.net/spreadsheets/pdf_di...</td>\n",
       "      <td>2018.06.08</td>\n",
       "      <td>2018.06.08</td>\n",
       "      <td>6300.0</td>\n",
       "      <td>NaN</td>\n",
       "      <td>NaN</td>\n",
       "    </tr>\n",
       "    <tr>\n",
       "      <th>4</th>\n",
       "      <td>2018.06.04</td>\n",
       "      <td>04-Jun-2018</td>\n",
       "      <td>2018.0</td>\n",
       "      <td>Provoked</td>\n",
       "      <td>MEXICO</td>\n",
       "      <td>Colima</td>\n",
       "      <td>La Ticla</td>\n",
       "      <td>Free diving</td>\n",
       "      <td>Gustavo Ramos</td>\n",
       "      <td>M</td>\n",
       "      <td>...</td>\n",
       "      <td>Tiger shark, 3m</td>\n",
       "      <td>A .Kipper</td>\n",
       "      <td>2018.06.04-Ramos.pdf</td>\n",
       "      <td>http://sharkattackfile.net/spreadsheets/pdf_di...</td>\n",
       "      <td>http://sharkattackfile.net/spreadsheets/pdf_di...</td>\n",
       "      <td>2018.06.04</td>\n",
       "      <td>2018.06.04</td>\n",
       "      <td>6299.0</td>\n",
       "      <td>NaN</td>\n",
       "      <td>NaN</td>\n",
       "    </tr>\n",
       "  </tbody>\n",
       "</table>\n",
       "<p>5 rows × 24 columns</p>\n",
       "</div>"
      ],
      "text/plain": [
       "  Case Number         Date    Year        Type    Country             Area  \\\n",
       "0  2018.06.25  25-Jun-2018  2018.0     Boating        USA       California   \n",
       "1  2018.06.18  18-Jun-2018  2018.0  Unprovoked        USA          Georgia   \n",
       "2  2018.06.09  09-Jun-2018  2018.0     Invalid        USA           Hawaii   \n",
       "3  2018.06.08  08-Jun-2018  2018.0  Unprovoked  AUSTRALIA  New South Wales   \n",
       "4  2018.06.04  04-Jun-2018  2018.0    Provoked     MEXICO           Colima   \n",
       "\n",
       "                         Location     Activity             Name Sex   ...  \\\n",
       "0     Oceanside, San Diego County     Paddling      Julie Wolfe    F  ...   \n",
       "1  St. Simon Island, Glynn County     Standing  Adyson McNeely     F  ...   \n",
       "2                    Habush, Oahu      Surfing      John Denges    M  ...   \n",
       "3              Arrawarra Headland      Surfing             male    M  ...   \n",
       "4                        La Ticla  Free diving   Gustavo Ramos     M  ...   \n",
       "\n",
       "          Species           Investigator or Source                       pdf  \\\n",
       "0      White shark                R. Collier, GSAF      2018.06.25-Wolfe.pdf   \n",
       "1              NaN  K.McMurray, TrackingSharks.com    2018.06.18-McNeely.pdf   \n",
       "2              NaN  K.McMurray, TrackingSharks.com     2018.06.09-Denges.pdf   \n",
       "3        2 m shark                  B. Myatt, GSAF  2018.06.08-Arrawarra.pdf   \n",
       "4  Tiger shark, 3m                       A .Kipper      2018.06.04-Ramos.pdf   \n",
       "\n",
       "                                        href formula  \\\n",
       "0  http://sharkattackfile.net/spreadsheets/pdf_di...   \n",
       "1  http://sharkattackfile.net/spreadsheets/pdf_di...   \n",
       "2  http://sharkattackfile.net/spreadsheets/pdf_di...   \n",
       "3  http://sharkattackfile.net/spreadsheets/pdf_di...   \n",
       "4  http://sharkattackfile.net/spreadsheets/pdf_di...   \n",
       "\n",
       "                                                href Case Number.1  \\\n",
       "0  http://sharkattackfile.net/spreadsheets/pdf_di...    2018.06.25   \n",
       "1  http://sharkattackfile.net/spreadsheets/pdf_di...    2018.06.18   \n",
       "2  http://sharkattackfile.net/spreadsheets/pdf_di...    2018.06.09   \n",
       "3  http://sharkattackfile.net/spreadsheets/pdf_di...    2018.06.08   \n",
       "4  http://sharkattackfile.net/spreadsheets/pdf_di...    2018.06.04   \n",
       "\n",
       "  Case Number.2 original order Unnamed: 22 Unnamed: 23  \n",
       "0    2018.06.25         6303.0         NaN         NaN  \n",
       "1    2018.06.18         6302.0         NaN         NaN  \n",
       "2    2018.06.09         6301.0         NaN         NaN  \n",
       "3    2018.06.08         6300.0         NaN         NaN  \n",
       "4    2018.06.04         6299.0         NaN         NaN  \n",
       "\n",
       "[5 rows x 24 columns]"
      ]
     },
     "execution_count": 46,
     "metadata": {},
     "output_type": "execute_result"
    }
   ],
   "source": [
    "df.head()"
   ]
  },
  {
   "cell_type": "code",
   "execution_count": 52,
   "id": "b40e82db",
   "metadata": {},
   "outputs": [
    {
     "data": {
      "text/plain": [
       "Case Number               17021\n",
       "Date                      19421\n",
       "Year                      19423\n",
       "Type                      19425\n",
       "Country                   19471\n",
       "Area                      19876\n",
       "Location                  19961\n",
       "Activity                  19965\n",
       "Name                      19631\n",
       "Sex                       19986\n",
       "Age                       22252\n",
       "Injury                    19449\n",
       "Fatal (Y/N)               19960\n",
       "Time                      22775\n",
       "Species                   22259\n",
       "Investigator or Source    19438\n",
       "pdf                       19421\n",
       "href formula              19422\n",
       "href                      19421\n",
       "Case Number.1             19421\n",
       "Case Number.2             19421\n",
       "original order            19414\n",
       "Unnamed: 22               25722\n",
       "Unnamed: 23               25721\n",
       "dtype: int64"
      ]
     },
     "execution_count": 52,
     "metadata": {},
     "output_type": "execute_result"
    }
   ],
   "source": [
    "#count how many na values there are\n",
    "df.isna().sum()"
   ]
  },
  {
   "cell_type": "code",
   "execution_count": 53,
   "id": "8afcb7ab",
   "metadata": {},
   "outputs": [
    {
     "data": {
      "text/plain": [
       "Case Number               8702\n",
       "Date                      6302\n",
       "Year                      6300\n",
       "Type                      6298\n",
       "Country                   6252\n",
       "Area                      5847\n",
       "Location                  5762\n",
       "Activity                  5758\n",
       "Name                      6092\n",
       "Sex                       5737\n",
       "Age                       3471\n",
       "Injury                    6274\n",
       "Fatal (Y/N)               5763\n",
       "Time                      2948\n",
       "Species                   3464\n",
       "Investigator or Source    6285\n",
       "pdf                       6302\n",
       "href formula              6301\n",
       "href                      6302\n",
       "Case Number.1             6302\n",
       "Case Number.2             6302\n",
       "original order            6309\n",
       "Unnamed: 22                  1\n",
       "Unnamed: 23                  2\n",
       "dtype: int64"
      ]
     },
     "execution_count": 53,
     "metadata": {},
     "output_type": "execute_result"
    }
   ],
   "source": [
    "df.notna().sum()"
   ]
  },
  {
   "cell_type": "code",
   "execution_count": 56,
   "id": "d88a9e59",
   "metadata": {},
   "outputs": [
    {
     "name": "stdout",
     "output_type": "stream",
     "text": [
      "<class 'pandas.core.frame.DataFrame'>\n",
      "Int64Index: 6300 entries, 0 to 6301\n",
      "Data columns (total 24 columns):\n",
      " #   Column                  Non-Null Count  Dtype  \n",
      "---  ------                  --------------  -----  \n",
      " 0   Case Number             6299 non-null   object \n",
      " 1   Date                    6300 non-null   object \n",
      " 2   Year                    6300 non-null   float64\n",
      " 3   Type                    6296 non-null   object \n",
      " 4   Country                 6250 non-null   object \n",
      " 5   Area                    5845 non-null   object \n",
      " 6   Location                5761 non-null   object \n",
      " 7   Activity                5756 non-null   object \n",
      " 8   Name                    6090 non-null   object \n",
      " 9   Sex                     5735 non-null   object \n",
      " 10  Age                     3470 non-null   object \n",
      " 11  Injury                  6272 non-null   object \n",
      " 12  Fatal (Y/N)             5762 non-null   object \n",
      " 13  Time                    2948 non-null   object \n",
      " 14  Species                 3463 non-null   object \n",
      " 15  Investigator or Source  6283 non-null   object \n",
      " 16  pdf                     6300 non-null   object \n",
      " 17  href formula            6299 non-null   object \n",
      " 18  href                    6300 non-null   object \n",
      " 19  Case Number.1           6300 non-null   object \n",
      " 20  Case Number.2           6300 non-null   object \n",
      " 21  original order          6300 non-null   float64\n",
      " 22  Unnamed: 22             1 non-null      object \n",
      " 23  Unnamed: 23             2 non-null      object \n",
      "dtypes: float64(2), object(22)\n",
      "memory usage: 1.2+ MB\n"
     ]
    }
   ],
   "source": [
    "# Drop rows where date and year has NaN value - these rows are useless for our analysis\n",
    "\n",
    "df2=df.dropna(subset=['Date', 'Year'])\n",
    "df2.info()"
   ]
  },
  {
   "cell_type": "code",
   "execution_count": 42,
   "id": "1cb2514d",
   "metadata": {},
   "outputs": [],
   "source": [
    "pattern_date=\"\\d{2}\\-\\w{3}\\-\\d{4}\"\n",
    "reg_date=re.compile(pattern_date)"
   ]
  },
  {
   "cell_type": "code",
   "execution_count": 89,
   "id": "0f434945",
   "metadata": {},
   "outputs": [
    {
     "name": "stderr",
     "output_type": "stream",
     "text": [
      "C:\\Users\\vikto\\AppData\\Local\\Temp\\ipykernel_38492\\1132734240.py:1: SettingWithCopyWarning: \n",
      "A value is trying to be set on a copy of a slice from a DataFrame.\n",
      "Try using .loc[row_indexer,col_indexer] = value instead\n",
      "\n",
      "See the caveats in the documentation: https://pandas.pydata.org/pandas-docs/stable/user_guide/indexing.html#returning-a-view-versus-a-copy\n",
      "  df2[\"Date_clean\"]=df2.apply(lambda row: str(re.findall(pattern_date,row[\"Date\"]))[2:-2] if reg_date.search(str(row[\"Date\"])) else row[\"Year\"], axis=1)\n"
     ]
    },
    {
     "data": {
      "text/html": [
       "<div>\n",
       "<style scoped>\n",
       "    .dataframe tbody tr th:only-of-type {\n",
       "        vertical-align: middle;\n",
       "    }\n",
       "\n",
       "    .dataframe tbody tr th {\n",
       "        vertical-align: top;\n",
       "    }\n",
       "\n",
       "    .dataframe thead th {\n",
       "        text-align: right;\n",
       "    }\n",
       "</style>\n",
       "<table border=\"1\" class=\"dataframe\">\n",
       "  <thead>\n",
       "    <tr style=\"text-align: right;\">\n",
       "      <th></th>\n",
       "      <th>Case Number</th>\n",
       "      <th>Date</th>\n",
       "      <th>Year</th>\n",
       "      <th>Type</th>\n",
       "      <th>Country</th>\n",
       "      <th>Area</th>\n",
       "      <th>Location</th>\n",
       "      <th>Activity</th>\n",
       "      <th>Name</th>\n",
       "      <th>Sex</th>\n",
       "      <th>...</th>\n",
       "      <th>Investigator or Source</th>\n",
       "      <th>pdf</th>\n",
       "      <th>href formula</th>\n",
       "      <th>href</th>\n",
       "      <th>Case Number.1</th>\n",
       "      <th>Case Number.2</th>\n",
       "      <th>original order</th>\n",
       "      <th>Unnamed: 22</th>\n",
       "      <th>Unnamed: 23</th>\n",
       "      <th>Date_clean</th>\n",
       "    </tr>\n",
       "  </thead>\n",
       "  <tbody>\n",
       "    <tr>\n",
       "      <th>0</th>\n",
       "      <td>2018.06.25</td>\n",
       "      <td>25-Jun-2018</td>\n",
       "      <td>2018.0</td>\n",
       "      <td>Boating</td>\n",
       "      <td>USA</td>\n",
       "      <td>California</td>\n",
       "      <td>Oceanside, San Diego County</td>\n",
       "      <td>Paddling</td>\n",
       "      <td>Julie Wolfe</td>\n",
       "      <td>F</td>\n",
       "      <td>...</td>\n",
       "      <td>R. Collier, GSAF</td>\n",
       "      <td>2018.06.25-Wolfe.pdf</td>\n",
       "      <td>http://sharkattackfile.net/spreadsheets/pdf_di...</td>\n",
       "      <td>http://sharkattackfile.net/spreadsheets/pdf_di...</td>\n",
       "      <td>2018.06.25</td>\n",
       "      <td>2018.06.25</td>\n",
       "      <td>6303.0</td>\n",
       "      <td>NaN</td>\n",
       "      <td>NaN</td>\n",
       "      <td>25-Jun-2018</td>\n",
       "    </tr>\n",
       "    <tr>\n",
       "      <th>1</th>\n",
       "      <td>2018.06.18</td>\n",
       "      <td>18-Jun-2018</td>\n",
       "      <td>2018.0</td>\n",
       "      <td>Unprovoked</td>\n",
       "      <td>USA</td>\n",
       "      <td>Georgia</td>\n",
       "      <td>St. Simon Island, Glynn County</td>\n",
       "      <td>Standing</td>\n",
       "      <td>Adyson McNeely</td>\n",
       "      <td>F</td>\n",
       "      <td>...</td>\n",
       "      <td>K.McMurray, TrackingSharks.com</td>\n",
       "      <td>2018.06.18-McNeely.pdf</td>\n",
       "      <td>http://sharkattackfile.net/spreadsheets/pdf_di...</td>\n",
       "      <td>http://sharkattackfile.net/spreadsheets/pdf_di...</td>\n",
       "      <td>2018.06.18</td>\n",
       "      <td>2018.06.18</td>\n",
       "      <td>6302.0</td>\n",
       "      <td>NaN</td>\n",
       "      <td>NaN</td>\n",
       "      <td>18-Jun-2018</td>\n",
       "    </tr>\n",
       "    <tr>\n",
       "      <th>2</th>\n",
       "      <td>2018.06.09</td>\n",
       "      <td>09-Jun-2018</td>\n",
       "      <td>2018.0</td>\n",
       "      <td>Invalid</td>\n",
       "      <td>USA</td>\n",
       "      <td>Hawaii</td>\n",
       "      <td>Habush, Oahu</td>\n",
       "      <td>Surfing</td>\n",
       "      <td>John Denges</td>\n",
       "      <td>M</td>\n",
       "      <td>...</td>\n",
       "      <td>K.McMurray, TrackingSharks.com</td>\n",
       "      <td>2018.06.09-Denges.pdf</td>\n",
       "      <td>http://sharkattackfile.net/spreadsheets/pdf_di...</td>\n",
       "      <td>http://sharkattackfile.net/spreadsheets/pdf_di...</td>\n",
       "      <td>2018.06.09</td>\n",
       "      <td>2018.06.09</td>\n",
       "      <td>6301.0</td>\n",
       "      <td>NaN</td>\n",
       "      <td>NaN</td>\n",
       "      <td>09-Jun-2018</td>\n",
       "    </tr>\n",
       "    <tr>\n",
       "      <th>3</th>\n",
       "      <td>2018.06.08</td>\n",
       "      <td>08-Jun-2018</td>\n",
       "      <td>2018.0</td>\n",
       "      <td>Unprovoked</td>\n",
       "      <td>AUSTRALIA</td>\n",
       "      <td>New South Wales</td>\n",
       "      <td>Arrawarra Headland</td>\n",
       "      <td>Surfing</td>\n",
       "      <td>male</td>\n",
       "      <td>M</td>\n",
       "      <td>...</td>\n",
       "      <td>B. Myatt, GSAF</td>\n",
       "      <td>2018.06.08-Arrawarra.pdf</td>\n",
       "      <td>http://sharkattackfile.net/spreadsheets/pdf_di...</td>\n",
       "      <td>http://sharkattackfile.net/spreadsheets/pdf_di...</td>\n",
       "      <td>2018.06.08</td>\n",
       "      <td>2018.06.08</td>\n",
       "      <td>6300.0</td>\n",
       "      <td>NaN</td>\n",
       "      <td>NaN</td>\n",
       "      <td>08-Jun-2018</td>\n",
       "    </tr>\n",
       "    <tr>\n",
       "      <th>4</th>\n",
       "      <td>2018.06.04</td>\n",
       "      <td>04-Jun-2018</td>\n",
       "      <td>2018.0</td>\n",
       "      <td>Provoked</td>\n",
       "      <td>MEXICO</td>\n",
       "      <td>Colima</td>\n",
       "      <td>La Ticla</td>\n",
       "      <td>Free diving</td>\n",
       "      <td>Gustavo Ramos</td>\n",
       "      <td>M</td>\n",
       "      <td>...</td>\n",
       "      <td>A .Kipper</td>\n",
       "      <td>2018.06.04-Ramos.pdf</td>\n",
       "      <td>http://sharkattackfile.net/spreadsheets/pdf_di...</td>\n",
       "      <td>http://sharkattackfile.net/spreadsheets/pdf_di...</td>\n",
       "      <td>2018.06.04</td>\n",
       "      <td>2018.06.04</td>\n",
       "      <td>6299.0</td>\n",
       "      <td>NaN</td>\n",
       "      <td>NaN</td>\n",
       "      <td>04-Jun-2018</td>\n",
       "    </tr>\n",
       "  </tbody>\n",
       "</table>\n",
       "<p>5 rows × 25 columns</p>\n",
       "</div>"
      ],
      "text/plain": [
       "  Case Number         Date    Year        Type    Country             Area  \\\n",
       "0  2018.06.25  25-Jun-2018  2018.0     Boating        USA       California   \n",
       "1  2018.06.18  18-Jun-2018  2018.0  Unprovoked        USA          Georgia   \n",
       "2  2018.06.09  09-Jun-2018  2018.0     Invalid        USA           Hawaii   \n",
       "3  2018.06.08  08-Jun-2018  2018.0  Unprovoked  AUSTRALIA  New South Wales   \n",
       "4  2018.06.04  04-Jun-2018  2018.0    Provoked     MEXICO           Colima   \n",
       "\n",
       "                         Location     Activity             Name Sex   ...  \\\n",
       "0     Oceanside, San Diego County     Paddling      Julie Wolfe    F  ...   \n",
       "1  St. Simon Island, Glynn County     Standing  Adyson McNeely     F  ...   \n",
       "2                    Habush, Oahu      Surfing      John Denges    M  ...   \n",
       "3              Arrawarra Headland      Surfing             male    M  ...   \n",
       "4                        La Ticla  Free diving   Gustavo Ramos     M  ...   \n",
       "\n",
       "           Investigator or Source                       pdf  \\\n",
       "0                R. Collier, GSAF      2018.06.25-Wolfe.pdf   \n",
       "1  K.McMurray, TrackingSharks.com    2018.06.18-McNeely.pdf   \n",
       "2  K.McMurray, TrackingSharks.com     2018.06.09-Denges.pdf   \n",
       "3                  B. Myatt, GSAF  2018.06.08-Arrawarra.pdf   \n",
       "4                       A .Kipper      2018.06.04-Ramos.pdf   \n",
       "\n",
       "                                        href formula  \\\n",
       "0  http://sharkattackfile.net/spreadsheets/pdf_di...   \n",
       "1  http://sharkattackfile.net/spreadsheets/pdf_di...   \n",
       "2  http://sharkattackfile.net/spreadsheets/pdf_di...   \n",
       "3  http://sharkattackfile.net/spreadsheets/pdf_di...   \n",
       "4  http://sharkattackfile.net/spreadsheets/pdf_di...   \n",
       "\n",
       "                                                href Case Number.1  \\\n",
       "0  http://sharkattackfile.net/spreadsheets/pdf_di...    2018.06.25   \n",
       "1  http://sharkattackfile.net/spreadsheets/pdf_di...    2018.06.18   \n",
       "2  http://sharkattackfile.net/spreadsheets/pdf_di...    2018.06.09   \n",
       "3  http://sharkattackfile.net/spreadsheets/pdf_di...    2018.06.08   \n",
       "4  http://sharkattackfile.net/spreadsheets/pdf_di...    2018.06.04   \n",
       "\n",
       "  Case Number.2 original order Unnamed: 22 Unnamed: 23   Date_clean  \n",
       "0    2018.06.25         6303.0         NaN         NaN  25-Jun-2018  \n",
       "1    2018.06.18         6302.0         NaN         NaN  18-Jun-2018  \n",
       "2    2018.06.09         6301.0         NaN         NaN  09-Jun-2018  \n",
       "3    2018.06.08         6300.0         NaN         NaN  08-Jun-2018  \n",
       "4    2018.06.04         6299.0         NaN         NaN  04-Jun-2018  \n",
       "\n",
       "[5 rows x 25 columns]"
      ]
     },
     "execution_count": 89,
     "metadata": {},
     "output_type": "execute_result"
    }
   ],
   "source": [
    "df2[\"Date_clean\"]=df2.apply(lambda row: str(re.findall(pattern_date,row[\"Date\"]))[2:-2] if reg_date.search(str(row[\"Date\"])) else row[\"Year\"], axis=1)\n",
    "df2.head()"
   ]
  },
  {
   "cell_type": "code",
   "execution_count": 90,
   "id": "43cb93f8",
   "metadata": {},
   "outputs": [
    {
     "name": "stdout",
     "output_type": "stream",
     "text": [
      "<class 'pandas.core.frame.DataFrame'>\n",
      "Int64Index: 6300 entries, 0 to 6301\n",
      "Data columns (total 25 columns):\n",
      " #   Column                  Non-Null Count  Dtype  \n",
      "---  ------                  --------------  -----  \n",
      " 0   Case Number             6299 non-null   object \n",
      " 1   Date                    6300 non-null   object \n",
      " 2   Year                    6300 non-null   float64\n",
      " 3   Type                    6296 non-null   object \n",
      " 4   Country                 6250 non-null   object \n",
      " 5   Area                    5845 non-null   object \n",
      " 6   Location                5761 non-null   object \n",
      " 7   Activity                5756 non-null   object \n",
      " 8   Name                    6090 non-null   object \n",
      " 9   Sex                     5735 non-null   object \n",
      " 10  Age                     3470 non-null   object \n",
      " 11  Injury                  6272 non-null   object \n",
      " 12  Fatal (Y/N)             5762 non-null   object \n",
      " 13  Time                    2948 non-null   object \n",
      " 14  Species                 3463 non-null   object \n",
      " 15  Investigator or Source  6283 non-null   object \n",
      " 16  pdf                     6300 non-null   object \n",
      " 17  href formula            6299 non-null   object \n",
      " 18  href                    6300 non-null   object \n",
      " 19  Case Number.1           6300 non-null   object \n",
      " 20  Case Number.2           6300 non-null   object \n",
      " 21  original order          6300 non-null   float64\n",
      " 22  Unnamed: 22             1 non-null      object \n",
      " 23  Unnamed: 23             2 non-null      object \n",
      " 24  Date_clean              6300 non-null   object \n",
      "dtypes: float64(2), object(23)\n",
      "memory usage: 1.4+ MB\n"
     ]
    }
   ],
   "source": [
    "df2.info()"
   ]
  },
  {
   "cell_type": "code",
   "execution_count": 113,
   "id": "ddc920da",
   "metadata": {},
   "outputs": [
    {
     "name": "stdout",
     "output_type": "stream",
     "text": [
      "<class 'pandas.core.frame.DataFrame'>\n",
      "Int64Index: 6300 entries, 0 to 6301\n",
      "Data columns (total 16 columns):\n",
      " #   Column                  Non-Null Count  Dtype  \n",
      "---  ------                  --------------  -----  \n",
      " 0   Date                    6300 non-null   object \n",
      " 1   Year                    6300 non-null   float64\n",
      " 2   Type                    6296 non-null   object \n",
      " 3   Country                 6250 non-null   object \n",
      " 4   Area                    5845 non-null   object \n",
      " 5   Location                5761 non-null   object \n",
      " 6   Activity                5756 non-null   object \n",
      " 7   Name                    6090 non-null   object \n",
      " 8   Sex                     5735 non-null   object \n",
      " 9   Age                     3470 non-null   object \n",
      " 10  Injury                  6272 non-null   object \n",
      " 11  Fatal (Y/N)             5762 non-null   object \n",
      " 12  Time                    2948 non-null   object \n",
      " 13  Species                 3463 non-null   object \n",
      " 14  Investigator or Source  6283 non-null   object \n",
      " 15  Date_clean              6300 non-null   object \n",
      "dtypes: float64(1), object(15)\n",
      "memory usage: 965.8+ KB\n"
     ]
    }
   ],
   "source": [
    "# remove the unnecessary columns: Case Number, pdf, href formula, href, Case Number.1, Case Number.2, original order, 22 and 23\n",
    "df3=df2.drop(['Case Number','pdf', 'href formula', 'href', 'Case Number.1', 'Case Number.2','original order','Unnamed: 22','Unnamed: 23'],axis=1)\n",
    "df3.info()"
   ]
  },
  {
   "cell_type": "code",
   "execution_count": 114,
   "id": "e8651ab2",
   "metadata": {},
   "outputs": [
    {
     "name": "stdout",
     "output_type": "stream",
     "text": [
      "<class 'pandas.core.frame.DataFrame'>\n",
      "Int64Index: 6175 entries, 0 to 6176\n",
      "Data columns (total 16 columns):\n",
      " #   Column                  Non-Null Count  Dtype  \n",
      "---  ------                  --------------  -----  \n",
      " 0   Date                    6175 non-null   object \n",
      " 1   Year                    6175 non-null   float64\n",
      " 2   Type                    6171 non-null   object \n",
      " 3   Country                 6129 non-null   object \n",
      " 4   Area                    5746 non-null   object \n",
      " 5   Location                5670 non-null   object \n",
      " 6   Activity                5649 non-null   object \n",
      " 7   Name                    5970 non-null   object \n",
      " 8   Sex                     5618 non-null   object \n",
      " 9   Age                     3457 non-null   object \n",
      " 10  Injury                  6148 non-null   object \n",
      " 11  Fatal (Y/N)             5638 non-null   object \n",
      " 12  Time                    2941 non-null   object \n",
      " 13  Species                 3428 non-null   object \n",
      " 14  Investigator or Source  6158 non-null   object \n",
      " 15  Date_clean              6175 non-null   object \n",
      "dtypes: float64(1), object(15)\n",
      "memory usage: 820.1+ KB\n"
     ]
    }
   ],
   "source": [
    "# remove values where Year and Date_clean are 0\n",
    "\n",
    "df4=df3[(df3['Year']!=0)&(df3['Date_clean']!=0)]\n",
    "df4.info()"
   ]
  },
  {
   "cell_type": "code",
   "execution_count": 115,
   "id": "db8544d7",
   "metadata": {},
   "outputs": [
    {
     "name": "stderr",
     "output_type": "stream",
     "text": [
      "C:\\Users\\vikto\\AppData\\Local\\Temp\\ipykernel_38492\\3341651514.py:3: SettingWithCopyWarning: \n",
      "A value is trying to be set on a copy of a slice from a DataFrame.\n",
      "Try using .loc[row_indexer,col_indexer] = value instead\n",
      "\n",
      "See the caveats in the documentation: https://pandas.pydata.org/pandas-docs/stable/user_guide/indexing.html#returning-a-view-versus-a-copy\n",
      "  df4['Year']=df4.apply(lambda row: str(row['Date_clean'])[-4:] if row['Year']==0 else row['Year'], axis=1)\n"
     ]
    },
    {
     "data": {
      "text/html": [
       "<div>\n",
       "<style scoped>\n",
       "    .dataframe tbody tr th:only-of-type {\n",
       "        vertical-align: middle;\n",
       "    }\n",
       "\n",
       "    .dataframe tbody tr th {\n",
       "        vertical-align: top;\n",
       "    }\n",
       "\n",
       "    .dataframe thead th {\n",
       "        text-align: right;\n",
       "    }\n",
       "</style>\n",
       "<table border=\"1\" class=\"dataframe\">\n",
       "  <thead>\n",
       "    <tr style=\"text-align: right;\">\n",
       "      <th></th>\n",
       "      <th>Date</th>\n",
       "      <th>Year</th>\n",
       "      <th>Type</th>\n",
       "      <th>Country</th>\n",
       "      <th>Area</th>\n",
       "      <th>Location</th>\n",
       "      <th>Activity</th>\n",
       "      <th>Name</th>\n",
       "      <th>Sex</th>\n",
       "      <th>Age</th>\n",
       "      <th>Injury</th>\n",
       "      <th>Fatal (Y/N)</th>\n",
       "      <th>Time</th>\n",
       "      <th>Species</th>\n",
       "      <th>Investigator or Source</th>\n",
       "      <th>Date_clean</th>\n",
       "    </tr>\n",
       "  </thead>\n",
       "  <tbody>\n",
       "    <tr>\n",
       "      <th>6172</th>\n",
       "      <td>Ca. 1554</td>\n",
       "      <td>1554.0</td>\n",
       "      <td>Unprovoked</td>\n",
       "      <td>FRANCE</td>\n",
       "      <td>Nice &amp; Marseilles</td>\n",
       "      <td>NaN</td>\n",
       "      <td>NaN</td>\n",
       "      <td>males (wearing armor)</td>\n",
       "      <td>M</td>\n",
       "      <td>NaN</td>\n",
       "      <td>NaN</td>\n",
       "      <td>UNKNOWN</td>\n",
       "      <td>NaN</td>\n",
       "      <td>Possibly white sharks</td>\n",
       "      <td>G. Rondelet</td>\n",
       "      <td>1554.0</td>\n",
       "    </tr>\n",
       "    <tr>\n",
       "      <th>6173</th>\n",
       "      <td>Ca. 1543</td>\n",
       "      <td>1543.0</td>\n",
       "      <td>Unprovoked</td>\n",
       "      <td>VENEZUELA</td>\n",
       "      <td>Magarita or Cubagua Islands</td>\n",
       "      <td>NaN</td>\n",
       "      <td>Pearl diving</td>\n",
       "      <td>Indian slave</td>\n",
       "      <td>M</td>\n",
       "      <td>NaN</td>\n",
       "      <td>FATAL</td>\n",
       "      <td>Y</td>\n",
       "      <td>NaN</td>\n",
       "      <td>NaN</td>\n",
       "      <td>J. Castro</td>\n",
       "      <td>1543.0</td>\n",
       "    </tr>\n",
       "    <tr>\n",
       "      <th>6174</th>\n",
       "      <td>Circa 500 A.D.</td>\n",
       "      <td>500.0</td>\n",
       "      <td>Unprovoked</td>\n",
       "      <td>MEXICO</td>\n",
       "      <td>NaN</td>\n",
       "      <td>NaN</td>\n",
       "      <td>NaN</td>\n",
       "      <td>male</td>\n",
       "      <td>M</td>\n",
       "      <td>NaN</td>\n",
       "      <td>Foot severed</td>\n",
       "      <td>N</td>\n",
       "      <td>NaN</td>\n",
       "      <td>NaN</td>\n",
       "      <td>J. Castro</td>\n",
       "      <td>500.0</td>\n",
       "    </tr>\n",
       "    <tr>\n",
       "      <th>6175</th>\n",
       "      <td>77  A.D.</td>\n",
       "      <td>77.0</td>\n",
       "      <td>Unprovoked</td>\n",
       "      <td>NaN</td>\n",
       "      <td>Ionian Sea</td>\n",
       "      <td>NaN</td>\n",
       "      <td>Sponge diving</td>\n",
       "      <td>males</td>\n",
       "      <td>M</td>\n",
       "      <td>NaN</td>\n",
       "      <td>FATAL</td>\n",
       "      <td>Y</td>\n",
       "      <td>NaN</td>\n",
       "      <td>NaN</td>\n",
       "      <td>Perils mentioned by Pliny the Elder (23 A.D. t...</td>\n",
       "      <td>77.0</td>\n",
       "    </tr>\n",
       "    <tr>\n",
       "      <th>6176</th>\n",
       "      <td>Ca. 5 A.D.</td>\n",
       "      <td>5.0</td>\n",
       "      <td>Unprovoked</td>\n",
       "      <td>AUSTRALIA</td>\n",
       "      <td>New South Wales</td>\n",
       "      <td>Bondi</td>\n",
       "      <td>NaN</td>\n",
       "      <td>male</td>\n",
       "      <td>M</td>\n",
       "      <td>NaN</td>\n",
       "      <td>Aboriginal rock carving depicts man being atta...</td>\n",
       "      <td>N</td>\n",
       "      <td>NaN</td>\n",
       "      <td>NaN</td>\n",
       "      <td>Waverly Library</td>\n",
       "      <td>5.0</td>\n",
       "    </tr>\n",
       "  </tbody>\n",
       "</table>\n",
       "</div>"
      ],
      "text/plain": [
       "                Date    Year        Type    Country  \\\n",
       "6172        Ca. 1554  1554.0  Unprovoked     FRANCE   \n",
       "6173        Ca. 1543  1543.0  Unprovoked  VENEZUELA   \n",
       "6174  Circa 500 A.D.   500.0  Unprovoked     MEXICO   \n",
       "6175        77  A.D.    77.0  Unprovoked        NaN   \n",
       "6176      Ca. 5 A.D.     5.0  Unprovoked  AUSTRALIA   \n",
       "\n",
       "                             Area Location       Activity  \\\n",
       "6172            Nice & Marseilles      NaN            NaN   \n",
       "6173  Magarita or Cubagua Islands      NaN   Pearl diving   \n",
       "6174                          NaN      NaN            NaN   \n",
       "6175                   Ionian Sea      NaN  Sponge diving   \n",
       "6176              New South Wales    Bondi            NaN   \n",
       "\n",
       "                       Name Sex   Age  \\\n",
       "6172  males (wearing armor)    M  NaN   \n",
       "6173           Indian slave    M  NaN   \n",
       "6174                   male    M  NaN   \n",
       "6175                  males    M  NaN   \n",
       "6176                   male    M  NaN   \n",
       "\n",
       "                                                 Injury Fatal (Y/N) Time  \\\n",
       "6172                                                NaN     UNKNOWN  NaN   \n",
       "6173                                              FATAL           Y  NaN   \n",
       "6174                                       Foot severed           N  NaN   \n",
       "6175                                              FATAL           Y  NaN   \n",
       "6176  Aboriginal rock carving depicts man being atta...           N  NaN   \n",
       "\n",
       "                   Species   \\\n",
       "6172  Possibly white sharks   \n",
       "6173                    NaN   \n",
       "6174                    NaN   \n",
       "6175                    NaN   \n",
       "6176                    NaN   \n",
       "\n",
       "                                 Investigator or Source Date_clean  \n",
       "6172                                       G. Rondelet      1554.0  \n",
       "6173                                          J. Castro     1543.0  \n",
       "6174                                          J. Castro      500.0  \n",
       "6175  Perils mentioned by Pliny the Elder (23 A.D. t...       77.0  \n",
       "6176                                    Waverly Library        5.0  "
      ]
     },
     "execution_count": 115,
     "metadata": {},
     "output_type": "execute_result"
    }
   ],
   "source": [
    "# replace 0 years with years from the date\n",
    "\n",
    "df4['Year']=df4.apply(lambda row: str(row['Date_clean'])[-4:] if row['Year']==0 else row['Year'], axis=1)\n",
    "df4.tail()"
   ]
  },
  {
   "cell_type": "code",
   "execution_count": 122,
   "id": "3417aa7d",
   "metadata": {},
   "outputs": [
    {
     "data": {
      "text/plain": [
       "<AxesSubplot:xlabel='Year', ylabel='Count'>"
      ]
     },
     "execution_count": 122,
     "metadata": {},
     "output_type": "execute_result"
    },
    {
     "data": {
      "image/png": "[encoded data removed]",
      "text/plain": [
       "<Figure size 432x288 with 1 Axes>"
      ]
     },
     "metadata": {
      "needs_background": "light"
     },
     "output_type": "display_data"
    }
   ],
   "source": [
    "sns.histplot(x=df4.Year, bins=[1700,1800,1850,1900,1920,1940,1950,1960,1970,1980,1990,2000,2010])"
   ]
  },
  {
   "cell_type": "code",
   "execution_count": 128,
   "id": "1be9e399",
   "metadata": {},
   "outputs": [],
   "source": [
    "#Strip the column names of spaces\n",
    "\n",
    "df4=df4.rename(columns=lambda x: x.strip())"
   ]
  },
  {
   "cell_type": "code",
   "execution_count": 130,
   "id": "41c6dd5f",
   "metadata": {},
   "outputs": [
    {
     "data": {
      "text/plain": [
       "Index(['Date', 'Year', 'Type', 'Country', 'Area', 'Location', 'Activity',\n",
       "       'Name', 'Sex', 'Age', 'Injury', 'Fatal (Y/N)', 'Time', 'Species',\n",
       "       'Investigator or Source', 'Date_clean'],\n",
       "      dtype='object')"
      ]
     },
     "execution_count": 130,
     "metadata": {},
     "output_type": "execute_result"
    }
   ],
   "source": [
    "df4.columns"
   ]
  },
  {
   "cell_type": "code",
   "execution_count": 132,
   "id": "9d87f9b2",
   "metadata": {},
   "outputs": [],
   "source": [
    "# replace Date with Date_clean\n",
    "df4['Date']=df4['Date_clean']"
   ]
  },
  {
   "cell_type": "code",
   "execution_count": 136,
   "id": "0d1724de",
   "metadata": {},
   "outputs": [],
   "source": [
    "# Drop Date_clean\n",
    "df4=df4.drop(['Date_clean'],axis=1)"
   ]
  },
  {
   "cell_type": "code",
   "execution_count": 138,
   "id": "d34c1171",
   "metadata": {},
   "outputs": [],
   "source": [
    "# Change column names - make them shorter\n",
    "\n",
    "df4=df4.rename(columns={'Fatal (Y/N)':'Fatal','Investigator or Source':'Source'})"
   ]
  },
  {
   "cell_type": "code",
   "execution_count": 145,
   "id": "2ced63a4",
   "metadata": {},
   "outputs": [],
   "source": [
    "# Clean the values from Fatal and Sex\n",
    "\n",
    "df4['Fatal']=df4['Fatal'].str.strip().str.upper()\n",
    "df4['Sex']=df4['Sex'].str.strip().str.upper()"
   ]
  },
  {
   "cell_type": "code",
   "execution_count": 152,
   "id": "8c7d3039",
   "metadata": {},
   "outputs": [],
   "source": [
    "# Put all the country names in lower letters and capitalize\n",
    "# Replace Usa with USA\n",
    "\n",
    "df4['Country']=df4['Country'].str.lower().str.capitalize()\n",
    "df4['Country'].replace(to_replace='Usa', value='USA', inplace=True)"
   ]
  },
  {
   "cell_type": "code",
   "execution_count": 162,
   "id": "6d50e86d",
   "metadata": {},
   "outputs": [],
   "source": [
    "# Filter out the values where Fatal or Sex is not clear\n",
    "\n",
    "df5=df4[((df4['Fatal']=='N') | (df4['Fatal']=='Y')) & ((df4['Sex']=='M') | (df4['Sex']=='F'))]"
   ]
  },
  {
   "cell_type": "code",
   "execution_count": 164,
   "id": "5c8e0293",
   "metadata": {},
   "outputs": [
    {
     "name": "stdout",
     "output_type": "stream",
     "text": [
      "<class 'pandas.core.frame.DataFrame'>\n",
      "Int64Index: 5114 entries, 0 to 6176\n",
      "Data columns (total 15 columns):\n",
      " #   Column    Non-Null Count  Dtype  \n",
      "---  ------    --------------  -----  \n",
      " 0   Date      5114 non-null   object \n",
      " 1   Year      5114 non-null   float64\n",
      " 2   Type      5111 non-null   object \n",
      " 3   Country   5078 non-null   object \n",
      " 4   Area      4792 non-null   object \n",
      " 5   Location  4725 non-null   object \n",
      " 6   Activity  4841 non-null   object \n",
      " 7   Name      5063 non-null   object \n",
      " 8   Sex       5114 non-null   object \n",
      " 9   Age       3185 non-null   object \n",
      " 10  Injury    5113 non-null   object \n",
      " 11  Fatal     5114 non-null   object \n",
      " 12  Time      2695 non-null   object \n",
      " 13  Species   2655 non-null   object \n",
      " 14  Source    5104 non-null   object \n",
      "dtypes: float64(1), object(14)\n",
      "memory usage: 639.2+ KB\n"
     ]
    }
   ],
   "source": [
    "df5.info()"
   ]
  },
  {
   "cell_type": "code",
   "execution_count": 166,
   "id": "e2a94b34",
   "metadata": {},
   "outputs": [
    {
     "data": {
      "text/plain": [
       "<AxesSubplot:xlabel='Sex', ylabel='count'>"
      ]
     },
     "execution_count": 166,
     "metadata": {},
     "output_type": "execute_result"
    },
    {
     "data": {
      "image/png": "[encoded data removed]",
      "text/plain": [
       "<Figure size 432x288 with 1 Axes>"
      ]
     },
     "metadata": {
      "needs_background": "light"
     },
     "output_type": "display_data"
    }
   ],
   "source": [
    "sns.countplot(data=df5, x=\"Sex\", hue=\"Fatal\")"
   ]
  },
  {
   "cell_type": "code",
   "execution_count": 167,
   "id": "00627f24",
   "metadata": {},
   "outputs": [
    {
     "data": {
      "text/plain": [
       "<AxesSubplot:xlabel='Year', ylabel='Count'>"
      ]
     },
     "execution_count": 167,
     "metadata": {},
     "output_type": "execute_result"
    },
    {
     "data": {
      "image/png": "[encoded data removed]",
      "text/plain": [
       "<Figure size 432x288 with 1 Axes>"
      ]
     },
     "metadata": {
      "needs_background": "light"
     },
     "output_type": "display_data"
    }
   ],
   "source": [
    "sns.histplot(data=df5, x='Year', hue='Fatal', multiple='stack')"
   ]
  },
  {
   "cell_type": "code",
   "execution_count": 186,
   "id": "6e1a9360",
   "metadata": {},
   "outputs": [],
   "source": [
    "# cut the data to display only the recent cases\n",
    "\n",
    "df_recent=df5[(df5['Year']>=1800)]"
   ]
  },
  {
   "cell_type": "code",
   "execution_count": 169,
   "id": "ecf0bfa5",
   "metadata": {},
   "outputs": [
    {
     "name": "stdout",
     "output_type": "stream",
     "text": [
      "<class 'pandas.core.frame.DataFrame'>\n",
      "Int64Index: 5099 entries, 0 to 6151\n",
      "Data columns (total 15 columns):\n",
      " #   Column    Non-Null Count  Dtype  \n",
      "---  ------    --------------  -----  \n",
      " 0   Date      5099 non-null   object \n",
      " 1   Year      5099 non-null   float64\n",
      " 2   Type      5096 non-null   object \n",
      " 3   Country   5065 non-null   object \n",
      " 4   Area      4782 non-null   object \n",
      " 5   Location  4715 non-null   object \n",
      " 6   Activity  4829 non-null   object \n",
      " 7   Name      5048 non-null   object \n",
      " 8   Sex       5099 non-null   object \n",
      " 9   Age       3183 non-null   object \n",
      " 10  Injury    5098 non-null   object \n",
      " 11  Fatal     5099 non-null   object \n",
      " 12  Time      2694 non-null   object \n",
      " 13  Species   2653 non-null   object \n",
      " 14  Source    5089 non-null   object \n",
      "dtypes: float64(1), object(14)\n",
      "memory usage: 637.4+ KB\n"
     ]
    }
   ],
   "source": [
    "df_recent.info()"
   ]
  },
  {
   "cell_type": "code",
   "execution_count": 193,
   "id": "29142cce",
   "metadata": {},
   "outputs": [
    {
     "data": {
      "text/plain": [
       "<AxesSubplot:xlabel='Year', ylabel='Count'>"
      ]
     },
     "execution_count": 193,
     "metadata": {},
     "output_type": "execute_result"
    },
    {
     "data": {
      "image/png": "[encoded data removed]",
      "text/plain": [
       "<Figure size 432x288 with 1 Axes>"
      ]
     },
     "metadata": {
      "needs_background": "light"
     },
     "output_type": "display_data"
    }
   ],
   "source": [
    "sns.histplot(data=df_recent, x='Year', hue='Fatal', multiple='stack')"
   ]
  },
  {
   "cell_type": "code",
   "execution_count": 188,
   "id": "80949662",
   "metadata": {},
   "outputs": [
    {
     "data": {
      "text/plain": [
       "USA                     1923\n",
       "Australia               1069\n",
       "South africa             450\n",
       "Papua new guinea         109\n",
       "New zealand              102\n",
       "                        ... \n",
       "Netherlands antilles       1\n",
       "Egypt / israel             1\n",
       "Argentina                  1\n",
       "Sudan?                     1\n",
       "Ghana                      1\n",
       "Name: Country, Length: 184, dtype: int64"
      ]
     },
     "execution_count": 188,
     "metadata": {},
     "output_type": "execute_result"
    }
   ],
   "source": [
    "df_recent['Country'].value_counts()"
   ]
  },
  {
   "cell_type": "code",
   "execution_count": 177,
   "id": "a867a8dc",
   "metadata": {},
   "outputs": [],
   "source": [
    "cntr='Egypt / israel'"
   ]
  },
  {
   "cell_type": "code",
   "execution_count": 178,
   "id": "8175f4f1",
   "metadata": {},
   "outputs": [
    {
     "data": {
      "text/plain": [
       "'Egypt'"
      ]
     },
     "execution_count": 178,
     "metadata": {},
     "output_type": "execute_result"
    }
   ],
   "source": [
    "cntr.split('/')[0].strip()"
   ]
  },
  {
   "cell_type": "code",
   "execution_count": 189,
   "id": "a819a811",
   "metadata": {},
   "outputs": [
    {
     "name": "stderr",
     "output_type": "stream",
     "text": [
      "C:\\Users\\vikto\\AppData\\Local\\Temp\\ipykernel_38492\\289881136.py:1: SettingWithCopyWarning: \n",
      "A value is trying to be set on a copy of a slice from a DataFrame.\n",
      "Try using .loc[row_indexer,col_indexer] = value instead\n",
      "\n",
      "See the caveats in the documentation: https://pandas.pydata.org/pandas-docs/stable/user_guide/indexing.html#returning-a-view-versus-a-copy\n",
      "  df_recent['Country']=df_recent['Country'].str.split('/').str[0].str.strip()\n"
     ]
    }
   ],
   "source": [
    "# Clean up the country list\n",
    "\n",
    "df_recent['Country']=df_recent['Country'].str.split('/').str[0].str.strip()"
   ]
  },
  {
   "cell_type": "code",
   "execution_count": 194,
   "id": "18b36687",
   "metadata": {},
   "outputs": [],
   "source": [
    "countries=df_recent['Country'].value_counts()"
   ]
  },
  {
   "cell_type": "code",
   "execution_count": 191,
   "id": "32516f00",
   "metadata": {},
   "outputs": [
    {
     "data": {
      "text/plain": [
       "<AxesSubplot:xlabel='Year', ylabel='count'>"
      ]
     },
     "execution_count": 191,
     "metadata": {},
     "output_type": "execute_result"
    },
    {
     "data": {
      "image/png": "[encoded data removed]",
      "text/plain": [
       "<Figure size 432x288 with 1 Axes>"
      ]
     },
     "metadata": {
      "needs_background": "light"
     },
     "output_type": "display_data"
    }
   ],
   "source": [
    "sns.countplot(data=df_recent, x='Year')"
   ]
  },
  {
   "cell_type": "code",
   "execution_count": 199,
   "id": "ff881af1",
   "metadata": {},
   "outputs": [],
   "source": [
    "top_50_countries=countries[:50]"
   ]
  },
  {
   "cell_type": "code",
   "execution_count": 200,
   "id": "a60e4155",
   "metadata": {},
   "outputs": [
    {
     "data": {
      "text/plain": [
       "USA                     1923\n",
       "Australia               1069\n",
       "South africa             450\n",
       "Papua new guinea         109\n",
       "New zealand              102\n",
       "Bahamas                   99\n",
       "Brazil                    89\n",
       "Mexico                    71\n",
       "Fiji                      55\n",
       "Reunion                   52\n",
       "Italy                     44\n",
       "Philippines               43\n",
       "Cuba                      37\n",
       "New caledonia             36\n",
       "Egypt                     35\n",
       "Mozambique                34\n",
       "Spain                     29\n",
       "Panama                    28\n",
       "India                     27\n",
       "Solomon islands           27\n",
       "Iran                      26\n",
       "Japan                     24\n",
       "Hong kong                 23\n",
       "French polynesia          22\n",
       "Croatia                   22\n",
       "Jamaica                   21\n",
       "Indonesia                 18\n",
       "England                   18\n",
       "Costa rica                15\n",
       "Pacific ocean             14\n",
       "Vietnam                   13\n",
       "Tonga                     13\n",
       "Greece                    11\n",
       "Vanuatu                   11\n",
       "Atlantic ocean            11\n",
       "Sri lanka                 11\n",
       "South atlantic ocean      10\n",
       "Mauritius                 10\n",
       "Marshall islands           9\n",
       "United kingdom             9\n",
       "Venezuela                  9\n",
       "Turkey                     9\n",
       "Taiwan                     9\n",
       "Ecuador                    9\n",
       "Iraq                       8\n",
       "South korea                8\n",
       "Senegal                    8\n",
       "Chile                      8\n",
       "Canada                     8\n",
       "Sierra leone               8\n",
       "Name: Country, dtype: int64"
      ]
     },
     "execution_count": 200,
     "metadata": {},
     "output_type": "execute_result"
    }
   ],
   "source": [
    "top_50_countries"
   ]
  },
  {
   "cell_type": "code",
   "execution_count": 201,
   "id": "1275d919",
   "metadata": {},
   "outputs": [
    {
     "data": {
      "text/plain": [
       "4754"
      ]
     },
     "execution_count": 201,
     "metadata": {},
     "output_type": "execute_result"
    }
   ],
   "source": [
    "sum(top_50_countries)"
   ]
  },
  {
   "cell_type": "code",
   "execution_count": null,
   "id": "f5e11c03",
   "metadata": {},
   "outputs": [],
   "source": []
  }
 ],
 "metadata": {
  "kernelspec": {
   "display_name": "Python 3 (ipykernel)",
   "language": "python",
   "name": "python3"
  },
  "language_info": {
   "codemirror_mode": {
    "name": "ipython",
    "version": 3
   },
   "file_extension": ".py",
   "mimetype": "text/x-python",
   "name": "python",
   "nbconvert_exporter": "python",
   "pygments_lexer": "ipython3",
   "version": "3.8.13"
  }
 },
 "nbformat": 4,
 "nbformat_minor": 5
}
